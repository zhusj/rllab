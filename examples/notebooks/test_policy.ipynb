{
 "cells": [
  {
   "cell_type": "code",
   "execution_count": 1,
   "metadata": {
    "collapsed": true
   },
   "outputs": [],
   "source": [
    "import joblib\n",
    "import tensorflow as tf\n",
    "\n",
    "from rllab.misc.console import query_yes_no\n",
    "from rllab.misc.special import discount_cumsum\n",
    "from rllab.sampler.utils import rollout\n",
    "\n",
    "import numpy as np\n"
   ]
  },
  {
   "cell_type": "code",
   "execution_count": 2,
   "metadata": {
    "collapsed": true
   },
   "outputs": [],
   "source": [
    "file =  '../../data/local/experiment/experiment_2017_09_05_11_56_26_0004/params.pkl'\n",
    "discount = 0.99\n",
    "num_trials = 20"
   ]
  },
  {
   "cell_type": "code",
   "execution_count": 3,
   "metadata": {
    "collapsed": false
   },
   "outputs": [
    {
     "name": "stderr",
     "output_type": "stream",
     "text": [
      "[2017-09-05 17:53:19,301] Making new env: InvertedPendulum-v1\n"
     ]
    },
    {
     "name": "stdout",
     "output_type": "stream",
     "text": [
      "2017-09-05 17:53:19.614483 EDT | observation space: Box(4,)\n",
      "2017-09-05 17:53:19.616203 EDT | action space: Box(1,)\n"
     ]
    },
    {
     "name": "stderr",
     "output_type": "stream",
     "text": [
      "/home/zhusj/anaconda2/envs/rllab3/lib/python3.5/site-packages/theano/tensor/signal/downsample.py:6: UserWarning: downsample module has been moved to the theano.tensor.signal.pool module.\n",
      "  \"downsample module has been moved to the theano.tensor.signal.pool module.\")\n"
     ]
    },
    {
     "name": "stdout",
     "output_type": "stream",
     "text": [
      "mass:  [[ 0.        ]\n",
      " [ 9.42477796]\n",
      " [ 4.8953899 ]]\n",
      "1 1000.99\n",
      "2 1000.99\n",
      "3 1000.99\n",
      "4 1000.99\n",
      "5 1000.99\n",
      "6 1000.99\n",
      "7 1000.99\n",
      "8 1000.99\n",
      "9 1000.99\n",
      "10 1000.99\n",
      "11 1000.99\n",
      "12 1000.99\n",
      "13 1000.99\n",
      "14 1000.99\n",
      "15 1000.99\n",
      "16 1000.99\n",
      "17 1000.99\n",
      "18 1000.99\n",
      "19 1000.99\n",
      "20 1000.99\n"
     ]
    }
   ],
   "source": [
    "with tf.Session() as sess:\n",
    "    data = joblib.load(file)\n",
    "    policy = data['policy']\n",
    "    env = data['env']\n",
    "    env.monitoring = False\n",
    "    print(\"mass: \", env.wrapped_env.env.env.env.model.body_mass)\n",
    "    count = 0\n",
    "    returns = 0\n",
    "    \n",
    "    while count < num_trials:\n",
    "        count = count + 1 \n",
    "        path = rollout(env, policy, max_path_length=env.horizon,\n",
    "                       animated=False, speedup=1)\n",
    "        \n",
    "#         path[\"returns\"] = discount_cumsum(path[\"rewards\"], discount)\n",
    "        path[\"returns\"] = sum(path[\"rewards\"], discount)\n",
    "        print(count, path['returns'])\n",
    "        returns = returns + path['returns']\n",
    "#         if not query_yes_no('Continue simulation?'):\n",
    "#             break"
   ]
  },
  {
   "cell_type": "code",
   "execution_count": 4,
   "metadata": {
    "collapsed": false
   },
   "outputs": [
    {
     "data": {
      "text/plain": [
       "1000.9900000000001"
      ]
     },
     "execution_count": 4,
     "metadata": {},
     "output_type": "execute_result"
    }
   ],
   "source": [
    "returns/num_trials"
   ]
  },
  {
   "cell_type": "code",
   "execution_count": 15,
   "metadata": {
    "collapsed": false
   },
   "outputs": [
    {
     "data": {
      "text/plain": [
       "[b'slider', b'hinge']"
      ]
     },
     "execution_count": 15,
     "metadata": {},
     "output_type": "execute_result"
    }
   ],
   "source": [
    "env.wrapped_env.env.env.env.model.joint_names"
   ]
  },
  {
   "cell_type": "code",
   "execution_count": 29,
   "metadata": {
    "collapsed": false
   },
   "outputs": [
    {
     "data": {
      "text/plain": [
       "{'__args': (<rllab.envs.gym_env.GymEnv at 0x7fc1995b0358>,\n",
       "  1.0,\n",
       "  False,\n",
       "  False,\n",
       "  0.001,\n",
       "  0.001),\n",
       " '__kwargs': {},\n",
       " '_obs_mean': array([ 0.,  0.,  0.,  0.]),\n",
       " '_obs_var': array([ 1.,  1.,  1.,  1.])}"
      ]
     },
     "execution_count": 29,
     "metadata": {},
     "output_type": "execute_result"
    }
   ],
   "source": [
    "env.__getstate__()"
   ]
  },
  {
   "cell_type": "code",
   "execution_count": 27,
   "metadata": {
    "collapsed": false
   },
   "outputs": [
    {
     "data": {
      "text/plain": [
       "EnvSpec(InvertedPendulum-v1)"
      ]
     },
     "execution_count": 27,
     "metadata": {},
     "output_type": "execute_result"
    }
   ],
   "source": [
    "env.wrapped_env.env.env.env."
   ]
  },
  {
   "cell_type": "code",
   "execution_count": 16,
   "metadata": {
    "collapsed": false
   },
   "outputs": [
    {
     "name": "stderr",
     "output_type": "stream",
     "text": [
      "[2017-09-05 17:55:25,072] Making new env: InvertedPendulum-v1\n"
     ]
    },
    {
     "name": "stdout",
     "output_type": "stream",
     "text": [
      "2017-09-05 17:55:25.079328 EDT | observation space: Box(4,)\n",
      "2017-09-05 17:55:25.081097 EDT | action space: Box(1,)\n",
      "mass:  [[ 0.        ]\n",
      " [ 9.42477796]\n",
      " [ 6.85354586]]\n",
      "1 1000.99\n",
      "2 1000.99\n",
      "3 1000.99\n",
      "4 1000.99\n",
      "5 1000.99\n",
      "6 1000.99\n",
      "7 1000.99\n",
      "8 1000.99\n",
      "9 1000.99\n",
      "10 1000.99\n",
      "11 1000.99\n",
      "12 1000.99\n",
      "13 1000.99\n",
      "14 1000.99\n",
      "15 1000.99\n",
      "16 1000.99\n",
      "17 1000.99\n",
      "18 1000.99\n",
      "19 1000.99\n",
      "20 1000.99\n"
     ]
    }
   ],
   "source": [
    "with tf.Session() as sess:\n",
    "    data = joblib.load(file)\n",
    "    policy = data['policy']\n",
    "    env = data['env']\n",
    "\n",
    "    mb = env.wrapped_env.env.env.env.model.body_mass\n",
    "    mb = np.array(mb)\n",
    "    mb[2,0] = mb[2,0]*1.4\n",
    "    env.wrapped_env.env.env.env.model.body_mass = mb\n",
    "    \n",
    "    print(\"mass: \", env.wrapped_env.env.env.env.model.body_mass)\n",
    "    count = 0\n",
    "    returns = 0\n",
    "    \n",
    "    while count < num_trials:\n",
    "        count = count + 1 \n",
    "        path = rollout(env, policy, max_path_length=1000,\n",
    "                       animated=False, speedup=1)\n",
    "        \n",
    "#         path[\"returns\"] = discount_cumsum(path[\"rewards\"], discount)\n",
    "        path[\"returns\"] = sum(path[\"rewards\"], discount)\n",
    "        print(count, path['returns'])\n",
    "        returns = returns + path['returns']\n",
    "        \n",
    "#         if not query_yes_no('Continue simulation?'):\n",
    "#             break"
   ]
  },
  {
   "cell_type": "code",
   "execution_count": 15,
   "metadata": {
    "collapsed": false
   },
   "outputs": [
    {
     "data": {
      "text/plain": [
       "957.3900000000001"
      ]
     },
     "execution_count": 15,
     "metadata": {},
     "output_type": "execute_result"
    }
   ],
   "source": [
    "returns/num_trials"
   ]
  },
  {
   "cell_type": "code",
   "execution_count": null,
   "metadata": {
    "collapsed": true
   },
   "outputs": [],
   "source": []
  }
 ],
 "metadata": {
  "kernelspec": {
   "display_name": "Python 3",
   "language": "python",
   "name": "python3"
  },
  "language_info": {
   "codemirror_mode": {
    "name": "ipython",
    "version": 3
   },
   "file_extension": ".py",
   "mimetype": "text/x-python",
   "name": "python",
   "nbconvert_exporter": "python",
   "pygments_lexer": "ipython3",
   "version": "3.5.2"
  },
  "widgets": {
   "state": {},
   "version": "1.1.2"
  }
 },
 "nbformat": 4,
 "nbformat_minor": 2
}
