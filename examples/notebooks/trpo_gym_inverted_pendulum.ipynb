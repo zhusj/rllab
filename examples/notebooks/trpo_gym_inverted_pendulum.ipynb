{
 "cells": [
  {
   "cell_type": "code",
   "execution_count": 17,
   "metadata": {
    "collapsed": false
   },
   "outputs": [],
   "source": [
    "from rllab.algos.trpo import TRPO\n",
    "from rllab.baselines.linear_feature_baseline import LinearFeatureBaseline\n",
    "from rllab.envs.gym_env import GymEnv\n",
    "from rllab.envs.normalized_env import normalize\n",
    "from rllab.misc.instrument import run_experiment_lite\n",
    "from rllab.policies.categorical_mlp_policy import CategoricalMLPPolicy\n",
    "from rllab.policies.gaussian_mlp_policy import GaussianMLPPolicy\n",
    "from rllab.policies.deterministic_mlp_policy import DeterministicMLPPolicy\n",
    "from rllab.sampler.utils import collect_data\n",
    "\n",
    "import gym\n",
    "import numpy as np\n",
    "import GPy\n",
    "import GPyOpt\n",
    "\n",
    "import matplotlib.pyplot as plt\n",
    "%matplotlib inline\n",
    "\n",
    "import matplotlib\n",
    "import pandas as pd\n",
    "\n",
    "\n",
    "import plotly\n",
    "plotly.offline.init_notebook_mode() \n",
    "import plotly.plotly as py\n",
    "import plotly.graph_objs as go\n",
    "\n",
    "import numpy as np\n",
    "import pandas as pd\n",
    "import copy"
   ]
  },
  {
   "cell_type": "code",
   "execution_count": 3,
   "metadata": {
    "collapsed": false
   },
   "outputs": [
    {
     "data": {
      "text/plain": [
       "{'actions': array([[-0.88214474],\n",
       "        [ 0.64992475],\n",
       "        [-0.79706869],\n",
       "        [-0.52112626]]), 'agent_infos': {'log_std': array([[-0.01014289],\n",
       "         [-0.01014289],\n",
       "         [-0.01014289],\n",
       "         [-0.01014289]]), 'mean': array([[-0.05223089],\n",
       "         [-0.57316388],\n",
       "         [ 0.09151939],\n",
       "         [-0.37779809]])}, 'env_infos': {}, 'observations': array([[  3.66252839e-03,  -6.19823099e-03,  -5.46348947e-03,\n",
       "           2.72956905e-04],\n",
       "        [ -1.59790954e-02,   3.92344607e-02,  -9.73468392e-01,\n",
       "           2.24637670e+00],\n",
       "        [ -4.03183671e-02,   9.33968083e-02,  -2.48127747e-01,\n",
       "           5.01191595e-01],\n",
       "        [ -6.78634092e-02,   1.55706686e-01,  -1.12525038e+00,\n",
       "           2.58951268e+00],\n",
       "        [ -1.23964438e-01,   2.84964846e-01,  -1.67583448e+00,\n",
       "           3.86388075e+00]]), 'rewards': array([ 1.,  1.,  1.,  1.])}"
      ]
     },
     "execution_count": 3,
     "metadata": {},
     "output_type": "execute_result"
    }
   ],
   "source": [
    "path = collect_data(env, policy, max_path_length=env.horizon,\n",
    "                       animated=False, speedup=1)\n",
    "path"
   ]
  },
  {
   "cell_type": "code",
   "execution_count": 4,
   "metadata": {
    "collapsed": false
   },
   "outputs": [],
   "source": [
    "states = path['observations']"
   ]
  },
  {
   "cell_type": "code",
   "execution_count": 5,
   "metadata": {
    "collapsed": false
   },
   "outputs": [
    {
     "data": {
      "text/plain": [
       "array([[  3.66252839e-03,  -6.19823099e-03,  -5.46348947e-03,\n",
       "          2.72956905e-04],\n",
       "       [ -1.59790954e-02,   3.92344607e-02,  -9.73468392e-01,\n",
       "          2.24637670e+00],\n",
       "       [ -4.03183671e-02,   9.33968083e-02,  -2.48127747e-01,\n",
       "          5.01191595e-01],\n",
       "       [ -6.78634092e-02,   1.55706686e-01,  -1.12525038e+00,\n",
       "          2.58951268e+00],\n",
       "       [ -1.23964438e-01,   2.84964846e-01,  -1.67583448e+00,\n",
       "          3.86388075e+00]])"
      ]
     },
     "execution_count": 5,
     "metadata": {},
     "output_type": "execute_result"
    }
   ],
   "source": [
    "states"
   ]
  },
  {
   "cell_type": "code",
   "execution_count": 6,
   "metadata": {
    "collapsed": false
   },
   "outputs": [],
   "source": [
    "actions = path['actions']"
   ]
  },
  {
   "cell_type": "code",
   "execution_count": 7,
   "metadata": {
    "collapsed": false
   },
   "outputs": [
    {
     "data": {
      "text/plain": [
       "array([[-0.88214474],\n",
       "       [ 0.64992475],\n",
       "       [-0.79706869],\n",
       "       [-0.52112626]])"
      ]
     },
     "execution_count": 7,
     "metadata": {},
     "output_type": "execute_result"
    }
   ],
   "source": [
    "actions"
   ]
  },
  {
   "cell_type": "code",
   "execution_count": 18,
   "metadata": {
    "collapsed": false
   },
   "outputs": [
    {
     "name": "stdout",
     "output_type": "stream",
     "text": [
      "2017-09-05 17:09:06.193096 EDT | Warning: skipping Gym environment monitoring since snapshot_dir not configured.\n"
     ]
    },
    {
     "name": "stderr",
     "output_type": "stream",
     "text": [
      "[2017-09-05 17:09:06,195] Making new env: InvertedPendulum-v1\n"
     ]
    },
    {
     "name": "stdout",
     "output_type": "stream",
     "text": [
      "2017-09-05 17:09:06.203899 EDT | observation space: Box(4,)\n",
      "2017-09-05 17:09:06.205310 EDT | action space: Box(1,)\n"
     ]
    }
   ],
   "source": [
    "env2 = copy.deepcopy(env)"
   ]
  },
  {
   "cell_type": "code",
   "execution_count": 23,
   "metadata": {
    "collapsed": false
   },
   "outputs": [
    {
     "data": {
      "text/plain": [
       "array([[ 0.        ],\n",
       "       [ 9.42477796],\n",
       "       [ 4.8953899 ]])"
      ]
     },
     "execution_count": 23,
     "metadata": {},
     "output_type": "execute_result"
    }
   ],
   "source": [
    "env2.wrapped_env.env.env.model.body_mass"
   ]
  },
  {
   "cell_type": "code",
   "execution_count": 24,
   "metadata": {
    "collapsed": false
   },
   "outputs": [],
   "source": [
    "mb = env2.wrapped_env.env.env.model.body_mass\n",
    "mb = np.array(mb)\n",
    "mb[2,0] = mb[1,0]*1.4\n",
    "env2.wrapped_env.env.env.model.body_mass = mb"
   ]
  },
  {
   "cell_type": "code",
   "execution_count": 31,
   "metadata": {
    "collapsed": false
   },
   "outputs": [
    {
     "data": {
      "text/plain": [
       "array([ 0.00214859, -0.00332162,  0.0005366 , -0.00429929])"
      ]
     },
     "execution_count": 31,
     "metadata": {},
     "output_type": "execute_result"
    }
   ],
   "source": [
    "env2.reset()"
   ]
  },
  {
   "cell_type": "code",
   "execution_count": 32,
   "metadata": {
    "collapsed": false
   },
   "outputs": [],
   "source": [
    "env2.wrapped_env.env.env.set_state(states[0,:2],states[0,2:])"
   ]
  },
  {
   "cell_type": "code",
   "execution_count": 33,
   "metadata": {
    "collapsed": false
   },
   "outputs": [
    {
     "data": {
      "text/plain": [
       "array([ 0.00366253, -0.00619823, -0.00546349,  0.00027296])"
      ]
     },
     "execution_count": 33,
     "metadata": {},
     "output_type": "execute_result"
    }
   ],
   "source": [
    "env2.wrapped_env.env.env.state_vector()"
   ]
  },
  {
   "cell_type": "code",
   "execution_count": 34,
   "metadata": {
    "collapsed": false
   },
   "outputs": [
    {
     "name": "stdout",
     "output_type": "stream",
     "text": [
      "[-0.88214474] [-0.01541496  0.04817815 -0.94581172  2.70764791]\n",
      "[ 0.64992475] [-0.03938508  0.11694199 -0.26315033  0.78518592]\n",
      "[-0.79706869] [-0.06735946  0.20071943 -1.1273773   3.37779775]\n",
      "[-0.52112626] [-0.12294815  0.36873727 -1.63655418  4.99116682]\n"
     ]
    }
   ],
   "source": [
    "for i in range(0,4):\n",
    "    next_o, r, d, env_info = env2.step(actions[i,:])\n",
    "    print (actions[i,:],next_o)"
   ]
  },
  {
   "cell_type": "code",
   "execution_count": 14,
   "metadata": {
    "collapsed": false
   },
   "outputs": [
    {
     "name": "stdout",
     "output_type": "stream",
     "text": [
      "[-0.88214474] [-0.0159791   0.03923446 -0.97346839  2.2463767 ]\n",
      "[ 0.64992475] [-0.04031837  0.09339681 -0.24812775  0.5011916 ]\n",
      "[-0.79706869] [-0.06786341  0.15570669 -1.12525038  2.58951268]\n",
      "[-0.52112626] [-0.12396444  0.28496485 -1.67583448  3.86388075]\n"
     ]
    }
   ],
   "source": [
    "for i in range(0,4):\n",
    "    next_o, r, d, env_info = env2.step(actions[i,:])\n",
    "    print (actions[i,:],next_o)"
   ]
  },
  {
   "cell_type": "code",
   "execution_count": 17,
   "metadata": {
    "collapsed": false
   },
   "outputs": [
    {
     "data": {
      "text/plain": [
       "True"
      ]
     },
     "execution_count": 17,
     "metadata": {},
     "output_type": "execute_result"
    }
   ],
   "source": [
    "d"
   ]
  },
  {
   "cell_type": "code",
   "execution_count": 55,
   "metadata": {
    "collapsed": false
   },
   "outputs": [
    {
     "data": {
      "text/plain": [
       "{'log_std': array([-0.01957605]), 'mean': array([ 0.00387783])}"
      ]
     },
     "execution_count": 55,
     "metadata": {},
     "output_type": "execute_result"
    }
   ],
   "source": [
    "agent_info"
   ]
  },
  {
   "cell_type": "code",
   "execution_count": 56,
   "metadata": {
    "collapsed": false
   },
   "outputs": [
    {
     "data": {
      "text/plain": [
       "array([-1.30719061])"
      ]
     },
     "execution_count": 56,
     "metadata": {},
     "output_type": "execute_result"
    }
   ],
   "source": [
    "best_action"
   ]
  },
  {
   "cell_type": "code",
   "execution_count": 2,
   "metadata": {
    "collapsed": false
   },
   "outputs": [
    {
     "name": "stdout",
     "output_type": "stream",
     "text": [
      "2017-09-05 17:05:34.523442 EDT | Warning: skipping Gym environment monitoring since snapshot_dir not configured.\n"
     ]
    },
    {
     "name": "stderr",
     "output_type": "stream",
     "text": [
      "[2017-09-05 17:05:34,525] Making new env: InvertedPendulum-v1\n"
     ]
    },
    {
     "name": "stdout",
     "output_type": "stream",
     "text": [
      "2017-09-05 17:05:34.809888 EDT | observation space: Box(4,)\n",
      "2017-09-05 17:05:34.811735 EDT | action space: Box(1,)\n",
      "2017-09-05 17:05:35.646010 EDT | Populating workers...\n",
      "2017-09-05 17:05:35.647389 EDT | Populated\n"
     ]
    },
    {
     "name": "stderr",
     "output_type": "stream",
     "text": [
      "0%                          100%\n",
      "[##############################] | ETA: 00:00:00"
     ]
    },
    {
     "name": "stdout",
     "output_type": "stream",
     "text": [
      "2017-09-05 17:05:35.743083 EDT | itr #0 | fitting baseline...\n",
      "2017-09-05 17:05:35.756271 EDT | itr #0 | fitted\n",
      "\u001b[35m=: Compiling function f_loss\u001b[0m\n"
     ]
    },
    {
     "name": "stderr",
     "output_type": "stream",
     "text": [
      "\n",
      "Total time elapsed: 00:00:00\n"
     ]
    },
    {
     "name": "stdout",
     "output_type": "stream",
     "text": [
      "\u001b[35mdone in 0.325 seconds\u001b[0m\n",
      "\u001b[35m=: Compiling function constraint\u001b[0m\n",
      "\u001b[35mdone in 0.158 seconds\u001b[0m\n",
      "2017-09-05 17:05:36.242084 EDT | itr #0 | computing loss before\n",
      "2017-09-05 17:05:36.242891 EDT | itr #0 | performing update\n",
      "2017-09-05 17:05:36.243553 EDT | itr #0 | computing descent direction\n",
      "\u001b[35m=: Compiling function f_grad\u001b[0m\n",
      "\u001b[35mdone in 0.415 seconds\u001b[0m\n",
      "\u001b[35m=: Compiling function f_Hx_plain\u001b[0m\n",
      "\u001b[35mdone in 1.133 seconds\u001b[0m\n",
      "2017-09-05 17:05:37.881658 EDT | itr #0 | descent direction computed\n",
      "\u001b[35m=: Compiling function f_loss_constraint\u001b[0m\n",
      "\u001b[35mdone in 0.263 seconds\u001b[0m\n",
      "2017-09-05 17:05:38.148457 EDT | itr #0 | backtrack iters: 4\n",
      "2017-09-05 17:05:38.149175 EDT | itr #0 | computing loss after\n",
      "2017-09-05 17:05:38.149839 EDT | itr #0 | optimization finished\n",
      "2017-09-05 17:05:38.150799 EDT | itr #0 | saving snapshot...\n",
      "2017-09-05 17:05:38.151467 EDT | itr #0 | saved\n",
      "2017-09-05 17:05:38.152583 EDT | -----------------------  ------------\n",
      "2017-09-05 17:05:38.153241 EDT | Iteration                 0\n",
      "2017-09-05 17:05:38.153839 EDT | AverageDiscountedReturn   4.901\n",
      "2017-09-05 17:05:38.154434 EDT | AverageReturn             5\n",
      "2017-09-05 17:05:38.155075 EDT | ExplainedVariance         5.25694e-09\n",
      "2017-09-05 17:05:38.155705 EDT | NumTrajs                  1\n",
      "2017-09-05 17:05:38.156321 EDT | Entropy                   1.41894\n",
      "2017-09-05 17:05:38.156920 EDT | Perplexity                4.13273\n",
      "2017-09-05 17:05:38.157535 EDT | StdReturn                 0\n",
      "2017-09-05 17:05:38.158130 EDT | MaxReturn                 5\n",
      "2017-09-05 17:05:38.158755 EDT | MinReturn                 5\n",
      "2017-09-05 17:05:38.159532 EDT | AveragePolicyStd          1\n",
      "2017-09-05 17:05:38.160213 EDT | LossBefore                1.77636e-16\n",
      "2017-09-05 17:05:38.160839 EDT | LossAfter                -2.11961e-06\n",
      "2017-09-05 17:05:38.161429 EDT | MeanKLBefore              0\n",
      "2017-09-05 17:05:38.162031 EDT | MeanKL                    0.00484334\n",
      "2017-09-05 17:05:38.162629 EDT | dLoss                     2.11961e-06\n",
      "2017-09-05 17:05:38.163576 EDT | -----------------------  ------------\n"
     ]
    }
   ],
   "source": [
    "env = normalize(GymEnv(\"InvertedPendulum-v1\"))\n",
    "\n",
    "policy = GaussianMLPPolicy(\n",
    "    env_spec=env.spec,\n",
    "    # The neural network policy should have two hidden layers, each with 32 hidden units.\n",
    "    hidden_sizes=(32, 32)\n",
    ")\n",
    "\n",
    "baseline = LinearFeatureBaseline(env_spec=env.spec)\n",
    "\n",
    "algo = TRPO(\n",
    "    env=env,\n",
    "    policy=policy,\n",
    "    baseline=baseline,\n",
    "    batch_size=1,\n",
    "    whole_paths=True,\n",
    "    max_path_length=100,\n",
    "    n_itr=1,\n",
    "    discount=0.99,\n",
    "    step_size=0.01,\n",
    ")\n",
    "algo.train()"
   ]
  },
  {
   "cell_type": "code",
   "execution_count": 8,
   "metadata": {
    "collapsed": false
   },
   "outputs": [
    {
     "ename": "NameError",
     "evalue": "name 'state_history' is not defined",
     "output_type": "error",
     "traceback": [
      "\u001b[0;31m---------------------------------------------------------------------------\u001b[0m",
      "\u001b[0;31mNameError\u001b[0m                                 Traceback (most recent call last)",
      "\u001b[0;32m<ipython-input-8-639c3d17dfd3>\u001b[0m in \u001b[0;36m<module>\u001b[0;34m()\u001b[0m\n\u001b[0;32m----> 1\u001b[0;31m \u001b[0mstate_history\u001b[0m\u001b[0;34m\u001b[0m\u001b[0m\n\u001b[0m",
      "\u001b[0;31mNameError\u001b[0m: name 'state_history' is not defined"
     ]
    }
   ],
   "source": [
    "state_history"
   ]
  },
  {
   "cell_type": "code",
   "execution_count": 53,
   "metadata": {
    "collapsed": false
   },
   "outputs": [
    {
     "data": {
      "text/plain": [
       "[222,\n",
       " array([ 0.00018833, -0.00534661, -0.00188312,  0.00525446]),\n",
       " array([ 0.00513007, -0.01696407,  0.24819538, -0.57975022]),\n",
       " array([-0.00703489,  0.01191812, -0.85259653,  1.9914285 ]),\n",
       " array([-0.05416082,  0.1202436 , -1.50181414,  3.41992948]),\n",
       " array([-0.13540815,  0.30454829, -2.54870201,  5.75458487])]"
      ]
     },
     "execution_count": 53,
     "metadata": {},
     "output_type": "execute_result"
    }
   ],
   "source": [
    "env._state"
   ]
  },
  {
   "cell_type": "code",
   "execution_count": 51,
   "metadata": {
    "collapsed": false
   },
   "outputs": [
    {
     "data": {
      "text/plain": [
       "4"
      ]
     },
     "execution_count": 51,
     "metadata": {},
     "output_type": "execute_result"
    }
   ],
   "source": [
    "len(env._action)"
   ]
  },
  {
   "cell_type": "code",
   "execution_count": 3,
   "metadata": {
    "collapsed": false
   },
   "outputs": [],
   "source": [
    "state_history = env._state.copy()\n",
    "action_history = env._action.copy()"
   ]
  },
  {
   "cell_type": "code",
   "execution_count": 52,
   "metadata": {
    "collapsed": false
   },
   "outputs": [
    {
     "data": {
      "text/plain": [
       "6"
      ]
     },
     "execution_count": 52,
     "metadata": {},
     "output_type": "execute_result"
    }
   ],
   "source": [
    "len(env._state)"
   ]
  },
  {
   "cell_type": "code",
   "execution_count": 45,
   "metadata": {
    "collapsed": false
   },
   "outputs": [
    {
     "name": "stdout",
     "output_type": "stream",
     "text": [
      "python /home/zhusj/repos/rllab/scripts/run_experiment_lite.py  --use_cloudpickle 'True'  --exp_name 'trpo_ip_64_64_4000_100_2017_09_05_15_44_27_0007'  --n_parallel '1'  --log_dir '/home/zhusj/repos/rllab/data/local/trpo-ip-64-64-4000-100/trpo_ip_64_64_4000_100_2017_09_05_15_44_27_0007'  --args_data 'gAJjY2xvdWRwaWNrbGUuY2xvdWRwaWNrbGUKX2ZpbGxfZnVuY3Rpb24KcQAoY2Nsb3VkcGlja2xlLmNsb3VkcGlja2xlCl9tYWtlX3NrZWxfZnVuYwpxAWNjbG91ZHBpY2tsZS5jbG91ZHBpY2tsZQpfYnVpbHRpbl90eXBlCnECWAgAAABDb2RlVHlwZXEDhXEEUnEFKEsASwBLBUsRS0djX2NvZGVjcwplbmNvZGUKcQZYkgAAAHQAAHQBAGQBAGQCAGQDAMKDAQHCgwEAfQEAdAIAZAQAfAEAagMAZAUAZBMAwoMAAn0CAHQEAGQEAHwBAGoDAMKDAAF9AwB0BQBkBwB8AQBkCAB8AgBkCQB8AwBkCgBkCwBkDAB8AQBqBgBkDQBkDgBkDwBkEABkEQBkEgDCgwAIfQQAfAQAagcAwoMAAAFkAABTcQdYBgAAAGxhdGluMXEIhnEJUnEKKE5YEwAAAEludmVydGVkUGVuZHVsdW0tdjFxC1gMAAAAcmVjb3JkX3ZpZGVvcQyJWAgAAABlbnZfc3BlY3ENWAwAAABoaWRkZW5fc2l6ZXNxDksgWAMAAABlbnZxD1gGAAAAcG9saWN5cRBYCAAAAGJhc2VsaW5lcRFYCgAAAGJhdGNoX3NpemVxEk2gD1gPAAAAbWF4X3BhdGhfbGVuZ3RocRNYBQAAAG5faXRycRRLKFgIAAAAZGlzY291bnRxFUc/764UeuFHrlgJAAAAc3RlcF9zaXplcRZHP4R64UeuFHtLIEsghnEXdHEYKFgJAAAAbm9ybWFsaXplcRlYBgAAAEd5bUVudnEaWBEAAABHYXVzc2lhbk1MUFBvbGljeXEbWAQAAABzcGVjcRxYFQAAAExpbmVhckZlYXR1cmVCYXNlbGluZXEdWAQAAABUUlBPcR5YBwAAAGhvcml6b25xH1gFAAAAdHJhaW5xIHRxIShYAQAAAF9xImgPaBBoEVgEAAAAYWxnb3EjdHEkWB8AAAA8aXB5dGhvbi1pbnB1dC00NS0xYzU5YmI3ZGM5YTg+cSVYCAAAAHJ1bl90YXNrcSZLAWgGWB4AAAAABRgCBgEJAgkDEgIGAQYBBgEGAQYBCQEGAQYBCQRxJ2gIhnEoUnEpKSl0cSpScStdcSx9cS2HcS5ScS99cTAoaB5jcmxsYWIuYWxnb3MudHJwbwpUUlBPCnExaBtjcmxsYWIucG9saWNpZXMuZ2F1c3NpYW5fbWxwX3BvbGljeQpHYXVzc2lhbk1MUFBvbGljeQpxMmgaY3JsbGFiLmVudnMuZ3ltX2VudgpHeW1FbnYKcTNoGWNybGxhYi5lbnZzLm5vcm1hbGl6ZWRfZW52Ck5vcm1hbGl6ZWRFbnYKcTRoHWNybGxhYi5iYXNlbGluZXMubGluZWFyX2ZlYXR1cmVfYmFzZWxpbmUKTGluZWFyRmVhdHVyZUJhc2VsaW5lCnE1dU59cTZ0Ui4='  --snapshot_mode 'last'  --seed '1'  --variant_data 'gAN9cQBYCAAAAGV4cF9uYW1lcQFYLwAAAHRycG9faXBfNjRfNjRfNDAwMF8xMDBfMjAxN18wOV8wNV8xNV80NF8yN18wMDA3cQJzLg=='\n"
     ]
    }
   ],
   "source": [
    "def run_task(*_):\n",
    "    # Please note that different environments with different action spaces may\n",
    "    # require different policies. For example with a Discrete action space, a\n",
    "    # CategoricalMLPPolicy works, but for a Box action space may need to use\n",
    "    # a GaussianMLPPolicy (see the trpo_gym_pendulum.py example)\n",
    "    env = normalize(GymEnv(\"InvertedPendulum-v1\",record_video=False))\n",
    "\n",
    "    policy = GaussianMLPPolicy(\n",
    "        env_spec=env.spec,\n",
    "        # The neural network policy should have two hidden layers, each with 32 hidden units.\n",
    "        hidden_sizes=(32, 32)\n",
    "    )\n",
    "\n",
    "    baseline = LinearFeatureBaseline(env_spec=env.spec)\n",
    "\n",
    "    algo = TRPO(\n",
    "        env=env,\n",
    "        policy=policy,\n",
    "        baseline=baseline,\n",
    "        batch_size=4000,\n",
    "        max_path_length=env.horizon,\n",
    "        n_itr=40,\n",
    "        discount=0.99,\n",
    "        step_size=0.01,\n",
    "#         Uncomment both lines (this and the plot parameter below) to enable plotting\n",
    "#         plot=True,\n",
    "    )\n",
    "    algo.train()\n",
    "\n",
    "\n",
    "run_experiment_lite(\n",
    "    run_task,\n",
    "    # Number of parallel workers for sampling\n",
    "    n_parallel=1,\n",
    "    # Only keep the snapshot parameters for the last iteration\n",
    "    snapshot_mode=\"last\",\n",
    "    # Specifies the seed for the experiment. If this is not provided, a random seed\n",
    "    # will be used\n",
    "    seed=1,\n",
    "    exp_prefix = \"trpo_ip_64_64_4000_100\"\n",
    "#     plot=True,\n",
    ")\n"
   ]
  },
  {
   "cell_type": "code",
   "execution_count": 46,
   "metadata": {
    "collapsed": true
   },
   "outputs": [],
   "source": [
    "datafile =  '../../data/local/trpo-ip-64-64-4000-100/trpo_ip_64_64_4000_100_2017_09_05_15_44_27_0007/progress.csv'\n",
    "df = pd.read_csv(datafile)\n",
    "trace1 = go.Scatter(\n",
    "                    x=df['Iteration'], y=df['AverageReturn'], # Data\n",
    "                    mode='lines', name='logx' # Additional options\n",
    "                   )\n",
    "layout = go.Layout(title='Simple Plot from csv data',\n",
    "                   plot_bgcolor='rgb(230, 230,230)')\n",
    "\n",
    "fig = go.Figure(data=[trace1], layout=layout)\n",
    "\n",
    "# Plot data in the notebook\n",
    "plotly.offline.iplot(fig)"
   ]
  },
  {
   "cell_type": "code",
   "execution_count": 49,
   "metadata": {
    "collapsed": false
   },
   "outputs": [
    {
     "data": {
      "text/html": [
       "<div id=\"e430a03e-566b-421c-acea-dd3767784024\" style=\"height: 525; width: 100%;\" class=\"plotly-graph-div\"></div><script type=\"text/javascript\">window.PLOTLYENV=window.PLOTLYENV || {};window.PLOTLYENV.BASE_URL=\"https://plot.ly\";Plotly.newPlot(\"e430a03e-566b-421c-acea-dd3767784024\", [{\"mode\": \"lines\", \"y\": [4.15472481828, 4.4994375703, 4.94197530864, 5.42740841248, 6.48788368336, 7.4092592592600015, 9.39252336449, 12.164133738599999, 16.0637450199, 19.5414634146, 28.3829787234, 34.059322033899996, 49.8395061728, 68.5593220339, 87.2978723404, 102.1, 119.0, 125.03125, 144.214285714, 155.923076923, 286.0, 245.0, 576.0, 713.0, 774.5, 963.6, 688.714285714, 831.5, 805.666666667, 859.8, 1000.0, 657.142857143, 681.666666667, 1000.0, 823.8, 1000.0, 1000.0, 1000.0, 886.0, 822.0], \"type\": \"scatter\", \"x\": [0, 1, 2, 3, 4, 5, 6, 7, 8, 9, 10, 11, 12, 13, 14, 15, 16, 17, 18, 19, 20, 21, 22, 23, 24, 25, 26, 27, 28, 29, 30, 31, 32, 33, 34, 35, 36, 37, 38, 39], \"name\": \"logx\"}], {\"plot_bgcolor\": \"rgb(230, 230,230)\", \"title\": \"Simple Plot from csv data\"}, {\"showLink\": true, \"linkText\": \"Export to plot.ly\"})</script>"
      ],
      "text/plain": [
       "<IPython.core.display.HTML object>"
      ]
     },
     "metadata": {},
     "output_type": "display_data"
    }
   ],
   "source": [
    "layout = go.Layout(title='Simple Plot from csv data',\n",
    "                   plot_bgcolor='rgb(230, 230,230)')\n",
    "\n",
    "fig = go.Figure(data=[trace1], layout=layout)\n",
    "\n",
    "# Plot data in the notebook\n",
    "plotly.offline.iplot(fig)"
   ]
  },
  {
   "cell_type": "code",
   "execution_count": 43,
   "metadata": {
    "collapsed": false
   },
   "outputs": [
    {
     "data": {
      "text/html": [
       "<div id=\"ee52d870-2b73-4592-86c4-ca3e3b858487\" style=\"height: 525; width: 100%;\" class=\"plotly-graph-div\"></div><script type=\"text/javascript\">window.PLOTLYENV=window.PLOTLYENV || {};window.PLOTLYENV.BASE_URL=\"https://plot.ly\";Plotly.newPlot(\"ee52d870-2b73-4592-86c4-ca3e3b858487\", [{\"mode\": \"lines\", \"y\": [3.8854368932, 3.92934249264, 4.2170706006300005, 4.68070175439, 5.36813922356, 6.02409638554, 7.0243902439, 8.68112798265, 11.155988857899999, 13.9512195122, 19.2980769231, 24.4, 32.8211382114, 45.9545454545, 58.6142857143, 72.98181818180001, 95.5952380952, 101.65, 108.594594595, 135.266666667, 150.037037037, 175.608695652, 178.739130435, 241.705882353, 222.1, 389.363636364, 408.818181818, 695.142857143, 929.4, 950.2, 984.8, 1000.0, 754.666666667, 1000.0, 1000.0, 882.6, 1000.0, 725.166666667, 1000.0, 1000.0, 1000.0, 1000.0, 1000.0, 1000.0, 1000.0, 1000.0, 871.0, 1000.0, 1000.0, 812.8, 752.333333333, 739.0, 771.333333333, 764.166666667, 834.4, 658.142857143, 1000.0, 1000.0, 469.66666666699996, 537.125, 1000.0, 971.2, 738.833333333, 797.333333333, 749.0, 922.6, 967.0, 800.833333333, 894.4, 656.285714286, 800.4, 609.142857143, 808.5, 825.5, 1000.0, 824.4, 1000.0, 821.4, 860.8, 1000.0, 966.4, 779.833333333, 977.0, 1000.0, 827.333333333, 873.2, 940.8, 1000.0, 1000.0, 1000.0, 906.2, 1000.0, 845.2, 1000.0, 1000.0, 1000.0, 762.5, 1000.0, 989.6, 1000.0], \"type\": \"scatter\", \"x\": [0, 1, 2, 3, 4, 5, 6, 7, 8, 9, 10, 11, 12, 13, 14, 15, 16, 17, 18, 19, 20, 21, 22, 23, 24, 25, 26, 27, 28, 29, 30, 31, 32, 33, 34, 35, 36, 37, 38, 39, 40, 41, 42, 43, 44, 45, 46, 47, 48, 49, 50, 51, 52, 53, 54, 55, 56, 57, 58, 59, 60, 61, 62, 63, 64, 65, 66, 67, 68, 69, 70, 71, 72, 73, 74, 75, 76, 77, 78, 79, 80, 81, 82, 83, 84, 85, 86, 87, 88, 89, 90, 91, 92, 93, 94, 95, 96, 97, 98, 99], \"name\": \"logx\"}], {\"plot_bgcolor\": \"rgb(230, 230,230)\", \"title\": \"Simple Plot from csv data\"}, {\"showLink\": true, \"linkText\": \"Export to plot.ly\"})</script>"
      ],
      "text/plain": [
       "<IPython.core.display.HTML object>"
      ]
     },
     "metadata": {},
     "output_type": "display_data"
    }
   ],
   "source": [
    "layout = go.Layout(title='Simple Plot from csv data',\n",
    "                   plot_bgcolor='rgb(230, 230,230)')\n",
    "\n",
    "fig = go.Figure(data=[trace1], layout=layout)\n",
    "\n",
    "# Plot data in the notebook\n",
    "plotly.offline.iplot(fig)"
   ]
  },
  {
   "cell_type": "code",
   "execution_count": 17,
   "metadata": {
    "collapsed": false
   },
   "outputs": [
    {
     "name": "stdout",
     "output_type": "stream",
     "text": [
      "2017-09-05 11:16:31.172684 EDT | Warning: skipping Gym environment monitoring since snapshot_dir not configured.\n"
     ]
    },
    {
     "name": "stderr",
     "output_type": "stream",
     "text": [
      "[2017-09-05 11:16:31,175] Making new env: InvertedPendulum-v1\n"
     ]
    },
    {
     "name": "stdout",
     "output_type": "stream",
     "text": [
      "2017-09-05 11:16:31.183398 EDT | observation space: Box(4,)\n",
      "2017-09-05 11:16:31.185015 EDT | action space: Box(1,)\n"
     ]
    }
   ],
   "source": [
    " env = normalize(GymEnv(\"InvertedPendulum-v1\"))"
   ]
  },
  {
   "cell_type": "code",
   "execution_count": 16,
   "metadata": {
    "collapsed": false
   },
   "outputs": [
    {
     "name": "stdout",
     "output_type": "stream",
     "text": [
      "2017-09-05 11:14:41.628909 EDT | Warning: skipping Gym environment monitoring since snapshot_dir not configured.\n"
     ]
    },
    {
     "name": "stderr",
     "output_type": "stream",
     "text": [
      "[2017-09-05 11:14:41,631] Making new env: InvertedPendulum-v1\n"
     ]
    },
    {
     "name": "stdout",
     "output_type": "stream",
     "text": [
      "2017-09-05 11:14:41.640232 EDT | observation space: Box(4,)\n",
      "2017-09-05 11:14:41.641825 EDT | action space: Box(1,)\n"
     ]
    }
   ],
   "source": [
    " env = GymEnv(\"InvertedPendulum-v1\")"
   ]
  },
  {
   "cell_type": "code",
   "execution_count": 23,
   "metadata": {
    "collapsed": true
   },
   "outputs": [],
   "source": [
    "mb = env.wrapped_env.env.env.model.body_mass"
   ]
  },
  {
   "cell_type": "code",
   "execution_count": 26,
   "metadata": {
    "collapsed": false
   },
   "outputs": [],
   "source": [
    "mb = np.array(mb)"
   ]
  },
  {
   "cell_type": "code",
   "execution_count": 30,
   "metadata": {
    "collapsed": false
   },
   "outputs": [
    {
     "data": {
      "text/plain": [
       "array([[ 0.       ],\n",
       "       [ 4.       ],\n",
       "       [ 4.8953899]])"
      ]
     },
     "execution_count": 30,
     "metadata": {},
     "output_type": "execute_result"
    }
   ],
   "source": [
    "mb"
   ]
  },
  {
   "cell_type": "code",
   "execution_count": 29,
   "metadata": {
    "collapsed": false
   },
   "outputs": [],
   "source": [
    "mb[1,0] = 4"
   ]
  },
  {
   "cell_type": "code",
   "execution_count": 31,
   "metadata": {
    "collapsed": false
   },
   "outputs": [],
   "source": [
    "env.wrapped_env.env.env.model.body_mass = mb"
   ]
  },
  {
   "cell_type": "code",
   "execution_count": 6,
   "metadata": {
    "collapsed": false
   },
   "outputs": [
    {
     "data": {
      "text/plain": [
       "array([[ 0.        ],\n",
       "       [ 9.42477796],\n",
       "       [ 4.8953899 ]])"
      ]
     },
     "execution_count": 6,
     "metadata": {},
     "output_type": "execute_result"
    }
   ],
   "source": [
    "env.model.body_mass"
   ]
  },
  {
   "cell_type": "code",
   "execution_count": 3,
   "metadata": {
    "collapsed": false
   },
   "outputs": [
    {
     "name": "stderr",
     "output_type": "stream",
     "text": [
      "[2017-09-05 13:08:05,774] Making new env: InvertedPendulum-v1\n"
     ]
    }
   ],
   "source": [
    "env_name = 'InvertedPendulum-v1'\n",
    "env = gym.make(env_name).env"
   ]
  },
  {
   "cell_type": "code",
   "execution_count": null,
   "metadata": {
    "collapsed": true
   },
   "outputs": [],
   "source": []
  },
  {
   "cell_type": "code",
   "execution_count": 11,
   "metadata": {
    "collapsed": false
   },
   "outputs": [
    {
     "data": {
      "text/plain": [
       "array([[ 0.        ],\n",
       "       [ 9.42477796],\n",
       "       [ 4.8953899 ]])"
      ]
     },
     "execution_count": 11,
     "metadata": {},
     "output_type": "execute_result"
    }
   ],
   "source": [
    "env.model.body_mass"
   ]
  }
 ],
 "metadata": {
  "kernelspec": {
   "display_name": "Python 3",
   "language": "python",
   "name": "python3"
  },
  "language_info": {
   "codemirror_mode": {
    "name": "ipython",
    "version": 3
   },
   "file_extension": ".py",
   "mimetype": "text/x-python",
   "name": "python",
   "nbconvert_exporter": "python",
   "pygments_lexer": "ipython3",
   "version": "3.5.2"
  },
  "widgets": {
   "state": {},
   "version": "1.1.2"
  }
 },
 "nbformat": 4,
 "nbformat_minor": 2
}
