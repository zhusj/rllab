{
 "cells": [
  {
   "cell_type": "code",
   "execution_count": 23,
   "metadata": {
    "collapsed": false
   },
   "outputs": [],
   "source": [
    "from rllab.algos.cem import CEM\n",
    "from rllab.algos.ddpg import DDPG\n",
    "from rllab.algos.tnpg import TNPG\n",
    "from rllab.algos.trpo import TRPO\n",
    "from rllab.algos.vpg import VPG\n",
    "\n",
    "from rllab.baselines.linear_feature_baseline import LinearFeatureBaseline\n",
    "from rllab.envs.gym_env import GymEnv\n",
    "from rllab.envs.normalized_env import normalize\n",
    "from rllab.exploration_strategies.ou_strategy import OUStrategy\n",
    "from rllab.misc.instrument import run_experiment_lite\n",
    "from rllab.policies.categorical_mlp_policy import CategoricalMLPPolicy\n",
    "from rllab.policies.gaussian_mlp_policy import GaussianMLPPolicy\n",
    "from rllab.policies.deterministic_mlp_policy import DeterministicMLPPolicy\n",
    "from rllab.q_functions.continuous_mlp_q_function import ContinuousMLPQFunction\n",
    "from rllab.sampler.utils import collect_data\n",
    "from rllab.sampler.utils import rollout\n",
    "\n",
    "import gym\n",
    "import numpy as np\n",
    "import GPy\n",
    "import GPyOpt\n",
    "\n",
    "import matplotlib.pyplot as plt\n",
    "%matplotlib inline\n",
    "\n",
    "import matplotlib\n",
    "import pandas as pd\n",
    "\n",
    "\n",
    "import plotly\n",
    "plotly.offline.init_notebook_mode() \n",
    "import plotly.plotly as py\n",
    "import plotly.graph_objs as go\n",
    "\n",
    "import numpy as np\n",
    "import pandas as pd\n",
    "import copy"
   ]
  },
  {
   "cell_type": "code",
   "execution_count": 28,
   "metadata": {
    "collapsed": false
   },
   "outputs": [
    {
     "name": "stdout",
     "output_type": "stream",
     "text": [
      "python /home/zhusj/repos/rllab/scripts/run_experiment_lite.py  --variant_data 'gAN9cQBYCAAAAGV4cF9uYW1lcQFYNgAAAHRycG9fU3dpbW1lci12MV8zMl8zMl80MDAwXzQwXzIwMTdfMDlfMDVfMThfMTlfNDVfMDAxNXECcy4='  --log_dir '/home/zhusj/repos/rllab/data/local/trpo-Swimmer-v1-32-32-4000-40/trpo_Swimmer-v1_32_32_4000_40_2017_09_05_18_19_45_0015'  --n_parallel '16'  --seed '1'  --use_cloudpickle 'True'  --exp_name 'trpo_Swimmer-v1_32_32_4000_40_2017_09_05_18_19_45_0015'  --args_data 'gAJjY2xvdWRwaWNrbGUuY2xvdWRwaWNrbGUKX2ZpbGxfZnVuY3Rpb24KcQAoY2Nsb3VkcGlja2xlLmNsb3VkcGlja2xlCl9tYWtlX3NrZWxfZnVuYwpxAWNjbG91ZHBpY2tsZS5jbG91ZHBpY2tsZQpfYnVpbHRpbl90eXBlCnECWAgAAABDb2RlVHlwZXEDhXEEUnEFKEsASwBLBUsRS0djX2NvZGVjcwplbmNvZGUKcQZYkgAAAHQAAHQBAHQCAGQBAGQCAMKDAQHCgwEAfQEAdAMAZAMAfAEAagQAZAQAZBIAwoMAAn0CAHQFAGQDAHwBAGoEAMKDAAF9AwB0BgBkBgB8AQBkBwB8AgBkCAB8AwBkCQBkCgBkCwB8AQBqBwBkDABkDQBkDgBkDwBkEABkEQDCgwAIfQQAfAQAaggAwoMAAAFkAABTcQdYBgAAAGxhdGluMXEIhnEJUnEKKE5YDAAAAHJlY29yZF92aWRlb3ELiVgIAAAAZW52X3NwZWNxDFgMAAAAaGlkZGVuX3NpemVzcQ1LIFgDAAAAZW52cQ5YBgAAAHBvbGljeXEPWAgAAABiYXNlbGluZXEQWAoAAABiYXRjaF9zaXplcRFNoA9YDwAAAG1heF9wYXRoX2xlbmd0aHESWAUAAABuX2l0cnETSwpYCAAAAGRpc2NvdW50cRRHP++uFHrhR65YCQAAAHN0ZXBfc2l6ZXEVRz+EeuFHrhR7SyBLIIZxFnRxFyhYCQAAAG5vcm1hbGl6ZXEYWAYAAABHeW1FbnZxGVgIAAAAZW52X25hbWVxGlgWAAAARGV0ZXJtaW5pc3RpY01MUFBvbGljeXEbWAQAAABzcGVjcRxYFQAAAExpbmVhckZlYXR1cmVCYXNlbGluZXEdWAQAAABUTlBHcR5YBwAAAGhvcml6b25xH1gFAAAAdHJhaW5xIHRxIShYAQAAAF9xImgOaA9oEFgEAAAAYWxnb3EjdHEkWB8AAAA8aXB5dGhvbi1pbnB1dC0yOC1mZWE0ZDYwZjY0Mzg+cSVYCAAAAHJ1bl90YXNrcSZLA2gGWB4AAAAABRgCBgEJAgkDEgIGAQYBBgEGAQYBCQEGAQYBCRFxJ2gIhnEoUnEpKSl0cSpScStdcSx9cS2HcS5ScS99cTAoaB1jcmxsYWIuYmFzZWxpbmVzLmxpbmVhcl9mZWF0dXJlX2Jhc2VsaW5lCkxpbmVhckZlYXR1cmVCYXNlbGluZQpxMWgYY3JsbGFiLmVudnMubm9ybWFsaXplZF9lbnYKTm9ybWFsaXplZEVudgpxMmgaWAoAAABTd2ltbWVyLXYxcTNoG2NybGxhYi5wb2xpY2llcy5kZXRlcm1pbmlzdGljX21scF9wb2xpY3kKRGV0ZXJtaW5pc3RpY01MUFBvbGljeQpxNGgeY3JsbGFiLmFsZ29zLnRucGcKVE5QRwpxNWgZY3JsbGFiLmVudnMuZ3ltX2VudgpHeW1FbnYKcTZ1Tn1xN3RSLg=='  --snapshot_mode 'last'\n"
     ]
    }
   ],
   "source": [
    "env_name = \"Swimmer-v1\"\n",
    "\n",
    "def run_task(*_):\n",
    "    # Please note that different environments with different action spaces may\n",
    "    # require different policies. For example with a Discrete action space, a\n",
    "    # CategoricalMLPPolicy works, but for a Box action space may need to use\n",
    "    # a GaussianMLPPolicy (see the trpo_gym_pendulum.py example)\n",
    "    env = normalize(GymEnv(env_name,record_video=False))\n",
    "\n",
    "    policy = DeterministicMLPPolicy(\n",
    "        env_spec=env.spec,\n",
    "        # The neural network policy should have two hidden layers, each with 32 hidden units.\n",
    "        hidden_sizes=(32, 32)\n",
    "    )\n",
    "\n",
    "    baseline = LinearFeatureBaseline(env_spec=env.spec)\n",
    "    \n",
    "    algo = TNPG(\n",
    "        env=env,\n",
    "        policy=policy,\n",
    "        baseline=baseline,\n",
    "        batch_size=4000,\n",
    "        max_path_length=env.horizon,\n",
    "        n_itr=10,\n",
    "        discount=0.99,\n",
    "        step_size=0.01,\n",
    "#         Uncomment both lines (this and the plot parameter below) to enable plotting\n",
    "#         plot=True,\n",
    "    )\n",
    "    \n",
    "#     qf = ContinuousMLPQFunction(env.spec)\n",
    "#     es = OUStrategy(env.spec)\n",
    "#     algo = DDPG(\n",
    "#         env=env, policy=policy, qf=qf, es=es,\n",
    "#         n_epochs=1,\n",
    "#         epoch_length=100,\n",
    "#         batch_size=32,\n",
    "#         min_pool_size=50,\n",
    "#         replay_pool_size=1000,\n",
    "#         eval_samples=100,\n",
    "#     )\n",
    "\n",
    "    algo.train()\n",
    "\n",
    "\n",
    "run_experiment_lite(\n",
    "    run_task,\n",
    "    # Number of parallel workers for sampling\n",
    "    n_parallel=16,\n",
    "    # Only keep the snapshot parameters for the last iteration\n",
    "    snapshot_mode=\"last\",\n",
    "    # Specifies the seed for the experiment. If this is not provided, a random seed\n",
    "    # will be used\n",
    "    seed=1,\n",
    "    exp_prefix = \"trpo_\"+env_name+\"_32_32_4000_40\"\n",
    "#     plot=True,\n",
    ")\n"
   ]
  },
  {
   "cell_type": "code",
   "execution_count": 19,
   "metadata": {
    "collapsed": false
   },
   "outputs": [
    {
     "data": {
      "text/html": [
       "<div id=\"854f6628-e3ad-488c-91a8-1ded3f60a041\" style=\"height: 525; width: 100%;\" class=\"plotly-graph-div\"></div><script type=\"text/javascript\">window.PLOTLYENV=window.PLOTLYENV || {};window.PLOTLYENV.BASE_URL=\"https://plot.ly\";Plotly.newPlot(\"854f6628-e3ad-488c-91a8-1ded3f60a041\", [{\"mode\": \"lines\", \"name\": \"logx\", \"type\": \"scatter\", \"x\": [0, 1, 2, 3, 4, 5, 6, 7, 8, 9, 10, 11, 12, 13, 14, 15, 16, 17, 18, 19, 20, 21, 22, 23, 24, 25, 26, 27, 28, 29, 30, 31, 32, 33, 34, 35, 36, 37, 38, 39], \"y\": [-6.74458725891, 1.36175899803, 9.46032076045, -3.9487972937599998, -1.33260482076, 7.1688733431, 0.602068209767, 4.5191568350599995, 3.5706778727699997, 2.44130082692, -2.38164250337, 4.865004172230001, 15.7162621901, 11.6988779972, 14.303405945, 9.077731737919999, 16.1801718597, 18.503828328599997, 12.9846409353, 24.2730380769, 17.0839340713, 22.709136605500003, 23.4163908905, 21.6973509809, 18.118694598599998, 12.2447413882, 21.0475071197, 20.1113580264, 21.694955288800003, 19.0740355521, 19.910298173399998, 20.9440219716, 19.457943484, 17.3537016271, 19.6106234571, 24.546450105500004, 23.2526927384, 20.9719464174, 21.3436908805, 26.8063591472]}], {\"plot_bgcolor\": \"rgb(230, 230,230)\", \"title\": \"Simple Plot from csv data\"}, {\"showLink\": true, \"linkText\": \"Export to plot.ly\"})</script>"
      ],
      "text/plain": [
       "<IPython.core.display.HTML object>"
      ]
     },
     "metadata": {},
     "output_type": "display_data"
    }
   ],
   "source": [
    "datafile =  '../../data/local/trpo-Swimmer-v1-32-32-4000-40/trpo_Swimmer-v1_32_32_4000_40_2017_09_05_18_19_45_0008/progress.csv'\n",
    "df = pd.read_csv(datafile)\n",
    "trace1 = go.Scatter(\n",
    "                    x=df['Iteration'], y=df['AverageReturn'], # Data\n",
    "                    mode='lines', name='logx' # Additional options\n",
    "                   )\n",
    "layout = go.Layout(title='Simple Plot from csv data',\n",
    "                   plot_bgcolor='rgb(230, 230,230)')\n",
    "\n",
    "fig = go.Figure(data=[trace1], layout=layout)\n",
    "\n",
    "# Plot data in the notebook\n",
    "plotly.offline.iplot(fig)"
   ]
  },
  {
   "cell_type": "code",
   "execution_count": 15,
   "metadata": {
    "collapsed": false
   },
   "outputs": [
    {
     "data": {
      "text/html": [
       "<div id=\"eb14a764-86be-47d7-8581-e141de024922\" style=\"height: 525; width: 100%;\" class=\"plotly-graph-div\"></div><script type=\"text/javascript\">window.PLOTLYENV=window.PLOTLYENV || {};window.PLOTLYENV.BASE_URL=\"https://plot.ly\";Plotly.newPlot(\"eb14a764-86be-47d7-8581-e141de024922\", [{\"mode\": \"lines\", \"name\": \"logx\", \"type\": \"scatter\", \"x\": [0, 1, 2, 3, 4, 5, 6, 7, 8, 9, 10, 11, 12, 13, 14, 15, 16, 17, 18, 19, 20, 21, 22, 23, 24, 25, 26, 27, 28, 29, 30, 31, 32, 33, 34, 35, 36, 37, 38, 39], \"y\": [16.3416695485, 16.243408861, 15.868969070999999, 18.4644133794, 19.9304430748, 17.5039933922, 19.235028408199998, 18.0907302949, 19.0865973802, 18.181897105, 19.584265275699998, 21.2194447083, 21.0759918438, 21.0253413553, 19.792417066800002, 21.3458737872, 21.6683658046, 24.340812061999998, 22.3869420963, 25.098720723499998, 24.0836374263, 25.256639558000003, 25.815205196999997, 37.835913283000004, 32.8209992727, 35.0385134418, 36.67390743, 42.798306478, 55.898821480200006, 58.120816731800005, 48.3531476303, 68.8500327716, 50.9019570483, 66.2863022067, 74.317473028, 65.16006650060001, 63.6747839162, 57.5922040166, 75.6118296908, 80.7335625888]}], {\"plot_bgcolor\": \"rgb(230, 230,230)\", \"title\": \"Simple Plot from csv data\"}, {\"showLink\": true, \"linkText\": \"Export to plot.ly\"})</script>"
      ],
      "text/plain": [
       "<IPython.core.display.HTML object>"
      ]
     },
     "metadata": {},
     "output_type": "display_data"
    }
   ],
   "source": [
    "datafile =  '../../data/local/trpo-Swimmer-v1-32-32-4000-40/trpo_Swimmer-v1_32_32_4000_40_2017_09_05_18_19_45_0007/progress.csv'\n",
    "df = pd.read_csv(datafile)\n",
    "trace1 = go.Scatter(\n",
    "                    x=df['Iteration'], y=df['AverageReturn'], # Data\n",
    "                    mode='lines', name='logx' # Additional options\n",
    "                   )\n",
    "layout = go.Layout(title='Simple Plot from csv data',\n",
    "                   plot_bgcolor='rgb(230, 230,230)')\n",
    "\n",
    "fig = go.Figure(data=[trace1], layout=layout)\n",
    "\n",
    "# Plot data in the notebook\n",
    "plotly.offline.iplot(fig)"
   ]
  },
  {
   "cell_type": "code",
   "execution_count": null,
   "metadata": {
    "collapsed": true
   },
   "outputs": [],
   "source": [
    "env.w"
   ]
  },
  {
   "cell_type": "code",
   "execution_count": null,
   "metadata": {
    "collapsed": false
   },
   "outputs": [
    {
     "name": "stdout",
     "output_type": "stream",
     "text": [
      "python /home/zhusj/repos/rllab/scripts/run_experiment_lite.py  --args_data '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'  --log_dir '/home/zhusj/repos/rllab/data/local/trpo-ip-32-32-4000-100/trpo_ip_32_32_4000_100_2017_09_05_17_48_37_0005'  --n_parallel '8'  --use_cloudpickle 'True'  --snapshot_mode 'last'  --variant_data 'gAN9cQBYCAAAAGV4cF9uYW1lcQFYLwAAAHRycG9faXBfMzJfMzJfNDAwMF8xMDBfMjAxN18wOV8wNV8xN180OF8zN18wMDA1cQJzLg=='  --seed '1'  --exp_name 'trpo_ip_32_32_4000_100_2017_09_05_17_48_37_0005'\n"
     ]
    }
   ],
   "source": [
    "def run_task(*_):\n",
    "    # Please note that different environments with different action spaces may\n",
    "    # require different policies. For example with a Discrete action space, a\n",
    "    # CategoricalMLPPolicy works, but for a Box action space may need to use\n",
    "    # a GaussianMLPPolicy (see the trpo_gym_pendulum.py example)\n",
    "    env = normalize(GymEnv(\"InvertedPendulum-v1\",record_video=False))\n",
    "\n",
    "    policy = GaussianMLPPolicy(\n",
    "        env_spec=env.spec,\n",
    "        # The neural network policy should have two hidden layers, each with 32 hidden units.\n",
    "        hidden_sizes=(32, 32)\n",
    "    )\n",
    "\n",
    "    baseline = LinearFeatureBaseline(env_spec=env.spec)\n",
    "    returns = []\n",
    "    total_ier = 100\n",
    "    test_iter = 10\n",
    "    num_iters = int(total_ier/test_iter)\n",
    "    \n",
    "    for i in range(0,num_iters):\n",
    "        print(\"iter: \", i)\n",
    "        \n",
    "        ################### Testing in different parameter #################\n",
    "        print(\"mass: \", env.wrapped_env.env.env.env.model.body_mass)\n",
    "        \n",
    "        env2 = copy.deepcopy(env)\n",
    "        mb = env2.wrapped_env.env.env.env.model.body_mass\n",
    "        mb = np.array(mb)\n",
    "        mb[2,0] = mb[2,0]*0.6\n",
    "        env2.wrapped_env.env.env.env.model.body_mass = mb\n",
    "\n",
    "        print(\"mass: \", env2.wrapped_env.env.env.env.model.body_mass)\n",
    "\n",
    "        path = rollout(env2, policy, max_path_length=1000,\n",
    "                       animated=False, speedup=1)\n",
    "        path[\"returns\"] = sum(path[\"rewards\"])\n",
    "        returns.append(path['returns'])\n",
    "        #################################################\n",
    "        \n",
    "        algo = TRPO(\n",
    "            env=env,\n",
    "            policy=policy,\n",
    "            baseline=baseline,\n",
    "            batch_size=4000,\n",
    "            max_path_length=env.horizon,\n",
    "            n_itr=test_iter,\n",
    "            discount=0.99,\n",
    "            step_size=0.01,\n",
    "    #         Uncomment both lines (this and the plot parameter below) to enable plotting\n",
    "    #         plot=True,\n",
    "        )\n",
    "        algo.train()\n",
    "    print(\"returns: \", returns)\n",
    "\n",
    "\n",
    "run_experiment_lite(\n",
    "    run_task,\n",
    "    # Number of parallel workers for sampling\n",
    "    n_parallel=8,\n",
    "    # Only keep the snapshot parameters for the last iteration\n",
    "    snapshot_mode=\"last\",\n",
    "    # Specifies the seed for the experiment. If this is not provided, a random seed\n",
    "    # will be used\n",
    "    seed=1,\n",
    "    exp_prefix = \"trpo_ip_32_32_4000_100\"\n",
    "#     plot=True,\n",
    ")\n"
   ]
  },
  {
   "cell_type": "code",
   "execution_count": 10,
   "metadata": {
    "collapsed": false
   },
   "outputs": [
    {
     "data": {
      "text/html": [
       "<div id=\"c3aea3a5-fd7a-4403-9115-ed94a8996495\" style=\"height: 525; width: 100%;\" class=\"plotly-graph-div\"></div><script type=\"text/javascript\">window.PLOTLYENV=window.PLOTLYENV || {};window.PLOTLYENV.BASE_URL=\"https://plot.ly\";Plotly.newPlot(\"c3aea3a5-fd7a-4403-9115-ed94a8996495\", [{\"type\": \"scatter\", \"mode\": \"lines\", \"y\": [4.11946446962, 4.5158013544, 5.258869908019999, 5.55833333333, 6.82593856655, 7.71290944123, 10.088161209099999, 13.422818791900001, 20.2171717172, 22.604519774, 30.803030303000003, 45.8522727273, 58.0142857143, 77.6226415094, 90.42222222219999, 108.540540541, 119.82352941200001, 149.740740741, 157.307692308, 148.321428571, 176.826086957, 247.529411765, 349.91666666699996, 522.5, 504.75, 359.91666666699996, 743.333333333, 546.25, 831.2, 754.5, 894.8, 920.4, 853.6, 808.666666667, 1000.0, 737.333333333, 1000.0, 1000.0, 1000.0, 1000.0], \"name\": \"training\"}, {\"type\": \"scatter\", \"mode\": \"lines\", \"y\": [10.0, 4.0, 5.0, 4.0, 3.0, 12.0, 30.0, 66.0, 15.0, 45.0, 78.0, 102.0, 29.0, 55.0, 81.0, 115.0, 133.0, 103.0, 166.0, 170.0, 154.0, 26.0, 486.0, 1000.0, 306.0, 283.0, 819.0, 394.0, 478.0, 524.0, 873.0, 893.0, 1000.0, 1000.0, 802.0, 293.0, 1000.0, 1000.0, 224.0, 604.0], \"name\": \"testing (mass*0.6)\"}], {\"title\": \"Inverted Pendulum TRPO Perfomance\", \"plot_bgcolor\": \"rgb(230, 230,230)\"}, {\"showLink\": true, \"linkText\": \"Export to plot.ly\"})</script>"
      ],
      "text/plain": [
       "<IPython.core.display.HTML object>"
      ]
     },
     "metadata": {},
     "output_type": "display_data"
    }
   ],
   "source": [
    "datafile =  '../../data/local/trpo-ip-32-32-4000-100/trpo_ip_32_32_4000_100_2017_09_05_17_48_37_0002/progress.csv'\n",
    "df = pd.read_csv(datafile)\n",
    "trace1 = go.Scatter(\n",
    "                    y=df['AverageReturn'], # Data\n",
    "                    mode='lines', name='training' # Additional options\n",
    "                   )\n",
    "trace２ = go.Scatter(\n",
    "                    y=np.array([10.0, 4.0, 5.0, 4.0, 3.0, 12.0, 30.0, 66.0, 15.0, 45.0, 78.0, 102.0, 29.0, 55.0, 81.0, 115.0, 133.0, 103.0, 166.0, 170.0, 154.0, 26.0, 486.0, 1000.0, 306.0, 283.0, 819.0, 394.0, 478.0, 524.0, 873.0, 893.0, 1000.0, 1000.0, 802.0, 293.0, 1000.0, 1000.0, 224.0, 604.0]), # Data\n",
    "                    mode='lines', name='testing (mass*0.6)' # Additional options\n",
    "                   )\n",
    "layout = go.Layout(title='Inverted Pendulum TRPO Perfomance',\n",
    "                   plot_bgcolor='rgb(230, 230,230)')\n",
    "\n",
    "fig = go.Figure(data=[trace1, trace2], layout=layout)\n",
    "\n",
    "# Plot data in the notebook\n",
    "plotly.offline.iplot(fig)"
   ]
  },
  {
   "cell_type": "code",
   "execution_count": null,
   "metadata": {
    "collapsed": true
   },
   "outputs": [],
   "source": [
    "datafile =  '../../data/local/trpo-ip-32-32-4000-100/trpo_ip_32_32_4000_100_2017_09_05_17_48_37_0002/progress.csv'\n",
    "df = pd.read_csv(datafile)\n",
    "trace1 = go.Scatter(\n",
    "                    y=df['AverageReturn'], # Data\n",
    "                    mode='lines', name='training' # Additional options\n",
    "                   )\n",
    "trace２ = go.Scatter(\n",
    "                    x=np.array([1:10:100])\n",
    "                    y=np.array([10.0, 4.0, 5.0, 4.0, 3.0, 12.0, 30.0, 66.0, 15.0, 45.0, 78.0, 102.0, 29.0, 55.0, 81.0, 115.0, 133.0, 103.0, 166.0, 170.0, 154.0, 26.0, 486.0, 1000.0, 306.0, 283.0, 819.0, 394.0, 478.0, 524.0, 873.0, 893.0, 1000.0, 1000.0, 802.0, 293.0, 1000.0, 1000.0, 224.0, 604.0]), # Data\n",
    "                    mode='lines', name='testing (mass*0.6)' # Additional options\n",
    "                   )\n",
    "layout = go.Layout(title='Inverted Pendulum TRPO Perfomance',\n",
    "                   plot_bgcolor='rgb(230, 230,230)')\n",
    "\n",
    "fig = go.Figure(data=[trace1, trace2], layout=layout)\n",
    "\n",
    "# Plot data in the notebook\n",
    "plotly.offline.iplot(fig)"
   ]
  },
  {
   "cell_type": "code",
   "execution_count": 12,
   "metadata": {
    "collapsed": false
   },
   "outputs": [
    {
     "data": {
      "text/html": [
       "<div id=\"ce0f66c5-d54c-4769-b62e-3fddfaa3d30c\" style=\"height: 525; width: 100%;\" class=\"plotly-graph-div\"></div><script type=\"text/javascript\">window.PLOTLYENV=window.PLOTLYENV || {};window.PLOTLYENV.BASE_URL=\"https://plot.ly\";Plotly.newPlot(\"ce0f66c5-d54c-4769-b62e-3fddfaa3d30c\", [{\"type\": \"scatter\", \"mode\": \"lines\", \"y\": [4.092024539880001, 4.55922551253, 4.87332521315, 5.56606397775, 6.71308724832, 8.42315789474, 10.258974359, 13.7965517241, 21.1308900524, 23.8452380952, 31.7421875, 42.9468085106, 57.928571428599994, 72.8571428571, 87.52173913040001, 102.71794871799999, 128.75, 151.851851852, 190.136363636, 266.647058824, 395.181818182, 336.75, 661.285714286, 802.0, 674.833333333, 294.1875, 907.6, 840.2, 813.0, 1000.0, 733.333333333, 889.6, 798.666666667, 846.6, 739.666666667, 813.5, 913.6, 1000.0, 1000.0, 1000.0, 1000.0, 1000.0, 477.0, 789.666666667, 805.833333333, 1000.0, 643.0, 596.857142857, 1000.0, 822.8, 1000.0, 1000.0, 1000.0, 1000.0, 1000.0, 1000.0, 1000.0, 1000.0, 1000.0, 933.0, 1000.0, 1000.0, 1000.0, 1000.0, 1000.0, 1000.0, 1000.0, 1000.0, 1000.0, 1000.0, 1000.0, 1000.0, 1000.0, 1000.0, 1000.0, 1000.0, 673.666666667, 1000.0, 964.6, 1000.0, 811.2, 1000.0, 881.4, 1000.0, 1000.0, 1000.0, 894.2, 1000.0, 1000.0, 1000.0, 966.6, 1000.0, 957.6, 717.166666667, 1000.0, 811.4, 1000.0, 1000.0, 1000.0, 774.833333333], \"name\": \"training\"}, {\"type\": \"scatter\", \"mode\": \"lines\", \"y\": [11.0, 4.0, 3.0, 5.0, 5.0, 7.0, 31.0, 35.0, 6.0, 50.0, 79.0, 92.0, 38.0, 62.0, 144.0, 139.0, 163.0, 136.0, 94.0, 15.0, 225.0, 228.0, 443.0, 283.0, 805.0, 68.0, 761.0, 1000.0, 52.0, 1000.0, 1000.0, 694.0, 1000.0, 1000.0, 744.0, 1000.0, 1000.0, 7.0, 72.0, 1000.0, 594.0, 1000.0, 214.0, 110.0, 1000.0, 565.0, 185.0, 557.0, 246.0, 1000.0, 1000.0, 280.0, 545.0, 1000.0, 1000.0, 1000.0, 451.0, 857.0, 255.0, 312.0, 462.0, 1000.0, 1000.0, 1000.0, 1000.0, 1000.0, 1000.0, 1000.0, 1000.0, 1000.0, 1000.0, 1000.0, 1000.0, 1000.0, 1000.0, 1000.0, 1000.0, 1000.0, 1000.0, 1000.0, 1000.0, 325.0, 1000.0, 1000.0, 1000.0, 1000.0, 1000.0, 1000.0, 1000.0, 1000.0, 1000.0, 1000.0, 462.0, 549.0, 1000.0, 233.0, 1000.0, 1000.0, 1000.0, 733.0], \"name\": \"testing (mass*0.6)\"}], {\"title\": \"Inverted Pendulum TRPO Perfomance\", \"plot_bgcolor\": \"rgb(230, 230,230)\"}, {\"showLink\": true, \"linkText\": \"Export to plot.ly\"})</script>"
      ],
      "text/plain": [
       "<IPython.core.display.HTML object>"
      ]
     },
     "metadata": {},
     "output_type": "display_data"
    }
   ],
   "source": [
    "datafile =  '../../data/local/trpo-ip-32-32-4000-100/trpo_ip_32_32_4000_100_2017_09_05_17_48_37_0003/progress.csv'\n",
    "df = pd.read_csv(datafile)\n",
    "trace1 = go.Scatter(\n",
    "                    y=df['AverageReturn'], # Data\n",
    "                    mode='lines', name='training' # Additional options\n",
    "                   )\n",
    "trace２ = go.Scatter(\n",
    "                    y = np.array([11.0, 4.0, 3.0, 5.0, 5.0, 7.0, 31.0, 35.0, 6.0, 50.0, 79.0, 92.0, 38.0, 62.0, 144.0, 139.0, 163.0, 136.0, 94.0, 15.0, 225.0, 228.0, 443.0, 283.0, 805.0, 68.0, 761.0, 1000.0, 52.0, 1000.0, 1000.0, 694.0, 1000.0, 1000.0, 744.0, 1000.0, 1000.0, 7.0, 72.0, 1000.0, 594.0, 1000.0, 214.0, 110.0, 1000.0, 565.0, 185.0, 557.0, 246.0, 1000.0, 1000.0, 280.0, 545.0, 1000.0, 1000.0, 1000.0, 451.0, 857.0, 255.0, 312.0, 462.0, 1000.0, 1000.0, 1000.0, 1000.0, 1000.0, 1000.0, 1000.0, 1000.0, 1000.0, 1000.0, 1000.0, 1000.0, 1000.0, 1000.0, 1000.0, 1000.0, 1000.0, 1000.0, 1000.0, 1000.0, 325.0, 1000.0, 1000.0, 1000.0, 1000.0, 1000.0, 1000.0, 1000.0, 1000.0, 1000.0, 1000.0, 462.0, 549.0, 1000.0, 233.0, 1000.0, 1000.0, 1000.0, 733.0]\n",
    "),\n",
    "                    mode='lines', name='testing (mass*0.6)' # Additional options\n",
    "                   )\n",
    "layout = go.Layout(title='Inverted Pendulum TRPO Perfomance',\n",
    "                   plot_bgcolor='rgb(230, 230,230)')\n",
    "\n",
    "fig = go.Figure(data=[trace1, trace2], layout=layout)\n",
    "\n",
    "# Plot data in the notebook\n",
    "plotly.offline.iplot(fig)"
   ]
  },
  {
   "cell_type": "code",
   "execution_count": 3,
   "metadata": {
    "collapsed": false
   },
   "outputs": [
    {
     "data": {
      "text/html": [
       "<div id=\"71de2780-8e96-4eb1-accd-130ec7e5fffd\" style=\"height: 525; width: 100%;\" class=\"plotly-graph-div\"></div><script type=\"text/javascript\">window.PLOTLYENV=window.PLOTLYENV || {};window.PLOTLYENV.BASE_URL=\"https://plot.ly\";Plotly.newPlot(\"71de2780-8e96-4eb1-accd-130ec7e5fffd\", [{\"type\": \"scatter\", \"mode\": \"lines\", \"y\": [4.08784473953, 4.588302752290001, 5.370469798659999, 5.757183908049999, 6.80272108844, 7.74274661509, 9.81617647059, 11.614492753599999, 17.4847161572, 21.978021978, 29.419117647100002, 40.5858585859, 52.1558441558, 77.1730769231, 94.3488372093, 95.6904761905, 117.11428571399999, 138.4, 228.11111111099999, 284.066666667, 440.3, 784.5, 939.0, 682.5, 852.4, 1000.0, 833.166666667, 880.0, 1000.0, 699.857142857, 1000.0, 578.857142857, 1000.0, 812.6, 864.2, 1000.0, 925.8, 973.6, 1000.0, 1000.0], \"name\": \"logx\"}], {\"title\": \"Simple Plot from csv data\", \"plot_bgcolor\": \"rgb(230, 230,230)\"}, {\"showLink\": true, \"linkText\": \"Export to plot.ly\"})</script>"
      ],
      "text/plain": [
       "<IPython.core.display.HTML object>"
      ]
     },
     "metadata": {},
     "output_type": "display_data"
    }
   ],
   "source": [
    "datafile =  '../../data/local/trpo-ip-32-32-4000-100/trpo_ip_32_32_4000_100_2017_09_05_17_48_37_0001/progress.csv'\n",
    "df = pd.read_csv(datafile)\n",
    "trace1 = go.Scatter(\n",
    "                    y=df['AverageReturn'], # Data\n",
    "                    mode='lines', name='logx' # Additional options\n",
    "                   )\n",
    "layout = go.Layout(title='Simple Plot from csv data',\n",
    "                   plot_bgcolor='rgb(230, 230,230)')\n",
    "\n",
    "fig = go.Figure(data=[trace1], layout=layout)\n",
    "\n",
    "# Plot data in the notebook\n",
    "plotly.offline.iplot(fig)"
   ]
  },
  {
   "cell_type": "code",
   "execution_count": null,
   "metadata": {
    "collapsed": true
   },
   "outputs": [],
   "source": []
  }
 ],
 "metadata": {
  "kernelspec": {
   "display_name": "Python 3",
   "language": "python",
   "name": "python3"
  },
  "language_info": {
   "codemirror_mode": {
    "name": "ipython",
    "version": 3
   },
   "file_extension": ".py",
   "mimetype": "text/x-python",
   "name": "python",
   "nbconvert_exporter": "python",
   "pygments_lexer": "ipython3",
   "version": "3.5.2"
  },
  "widgets": {
   "state": {},
   "version": "1.1.2"
  }
 },
 "nbformat": 4,
 "nbformat_minor": 2
}
