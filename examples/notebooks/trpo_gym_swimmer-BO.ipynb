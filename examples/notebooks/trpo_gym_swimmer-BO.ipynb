{
 "cells": [
  {
   "cell_type": "code",
   "execution_count": 114,
   "metadata": {
    "collapsed": false
   },
   "outputs": [],
   "source": [
    "from rllab.algos.trpo import TRPO\n",
    "from rllab.algos.batch_polopt import BatchSampler\n",
    "from rllab.baselines.linear_feature_baseline import LinearFeatureBaseline\n",
    "from rllab.envs.gym_env import GymEnv\n",
    "from rllab.envs.normalized_env import normalize\n",
    "from rllab.misc.instrument import run_experiment_lite\n",
    "from rllab.misc.instrument import VariantGenerator, variant\n",
    "from rllab.policies.categorical_mlp_policy import CategoricalMLPPolicy\n",
    "from rllab.policies.gaussian_mlp_policy import GaussianMLPPolicy\n",
    "from rllab.policies.deterministic_mlp_policy import DeterministicMLPPolicy\n",
    "from rllab.sampler.utils import collect_data, rollout\n",
    "from rllab.sampler import parallel_sampler\n",
    "\n",
    "\n",
    "import gym\n",
    "import numpy as np\n",
    "import GPy\n",
    "import GPyOpt\n",
    "\n",
    "import matplotlib.pyplot as plt\n",
    "%matplotlib inline\n",
    "\n",
    "import matplotlib\n",
    "import pandas as pd\n",
    "\n",
    "\n",
    "import plotly\n",
    "plotly.offline.init_notebook_mode() \n",
    "import plotly.plotly as py\n",
    "import plotly.graph_objs as go\n",
    "\n",
    "import numpy as np\n",
    "import pandas as pd\n",
    "import copy\n",
    "import pickle\n",
    "from datetime import datetime\n",
    "\n",
    "import random\n",
    "from operator import add, sub"
   ]
  },
  {
   "cell_type": "code",
   "execution_count": 25,
   "metadata": {
    "collapsed": false
   },
   "outputs": [
    {
     "data": {
      "text/plain": [
       "array([[  1.00000000e+00,   5.00000000e-03,   1.00000000e-04],\n",
       "       [  1.00000000e+00,   5.00000000e-03,   1.00000000e-04],\n",
       "       [  1.00000000e+00,   5.00000000e-03,   1.00000000e-04],\n",
       "       [  1.00000000e+00,   5.00000000e-03,   1.00000000e-04]])"
      ]
     },
     "execution_count": 25,
     "metadata": {},
     "output_type": "execute_result"
    }
   ],
   "source": [
    "env_sim.wrapped_env.env.env.model.geom_friction"
   ]
  },
  {
   "cell_type": "code",
   "execution_count": 119,
   "metadata": {
    "collapsed": false
   },
   "outputs": [],
   "source": [
    "def myf(X):\n",
    "    X = X.T\n",
    "    \n",
    "#     mb = np.zeros((3,1))\n",
    "#     mb[0,0] = float(0)\n",
    "#     mb[1,0] = float(9.42477796)*0.6\n",
    "#     mb[2,0] = float(4.8953899)*0.6\n",
    "#     env_sim.wrapped_env.env.env.model.body_mass = mb\n",
    "\n",
    "#     env_sim.wrapped_env.env.env.model.body_mass = env_real.wrapped_env.env.env.model.body_mass\n",
    "    env_sim_BO.wrapped_env.env.env.model.body_mass = X\n",
    "        \n",
    "    dim = env_sim_BO.wrapped_env.env.env.model.data.qpos.shape[0]\n",
    "#     print(\"states: \", states)\n",
    "#     print(\"actions: \", actions)\n",
    "#     print(\"observations: \", observations)    \n",
    "    env_sim_BO.wrapped_env.env.env.set_state(states[0,:dim],states[0,dim:])\n",
    "#     env_sim.wrapped_env.env.env.set_state(states[0,:2],states[0,2:])\n",
    "\n",
    "    sim_states = []\n",
    "    rewards = []\n",
    "    env_sim_BO.reset()\n",
    "    \n",
    "    for i in range(0,actions.shape[0]):\n",
    "        next_o, r, d, env_info = env_sim_BO.step(actions[i,:])\n",
    "        rewards.append(r)        \n",
    "        sim_states.append(next_o)\n",
    "#     print(states)\n",
    "#     print(\"sim_states: \", sim_states)\n",
    "    dist = sum(sum(abs(observations[1:,:]-np.array(sim_states))))/observations.shape[0]\n",
    "#     print(\"dist: \", dist)\n",
    "#     print(\"rewards: \", sum(rewards))\n",
    "    \n",
    "    return dist"
   ]
  },
  {
   "cell_type": "code",
   "execution_count": 121,
   "metadata": {
    "collapsed": false
   },
   "outputs": [],
   "source": [
    "def BO(bounds, X_init, Y_init):\n",
    "    print(\"bounds: \", bounds)\n",
    "    print(\"X_init size: \", X_init.size)\n",
    "    \n",
    "    global env_sim_BO\n",
    "    env_sim_BO = normalize(GymEnv(env_name,record_video=False, record_log=False))\n",
    "    \n",
    "    if X_init.size == 0:\n",
    "        myBopt = GPyOpt.methods.BayesianOptimization(myf, domain=bounds)\n",
    "    else:\n",
    "        myBopt = GPyOpt.methods.BayesianOptimization(myf, domain=bounds, X = X_init, Y = Y_init)\n",
    "        \n",
    "    time_budget = 30\n",
    "    print(\"running BO with time budget: \", time_budget)\n",
    "    myBopt.run_optimization(max_time=time_budget)\n",
    "    print(\"myBopt.x_opt: \", myBopt.x_opt, \"\\n\\n\\n\")\n",
    "    return myBopt"
   ]
  },
  {
   "cell_type": "code",
   "execution_count": 126,
   "metadata": {
    "collapsed": false
   },
   "outputs": [],
   "source": [
    "class VG(VariantGenerator):\n",
    "\n",
    "    @variant\n",
    "    def seed(self):\n",
    "        return list(range(1, 41))"
   ]
  },
  {
   "cell_type": "code",
   "execution_count": 127,
   "metadata": {
    "collapsed": false
   },
   "outputs": [],
   "source": [
    "############# sim = [0.6,0.8]-[1.2,1.4]* real\n",
    "\n",
    "\n",
    "global env_name\n",
    "env_name = \"Swimmer-v1\"\n",
    "returns = []\n",
    "total_iter = 400\n",
    "test_iter = 10\n",
    "num_iters = int(total_iter/test_iter)\n",
    "\n",
    "def run_task(*_):\n",
    "    # Please note that different environments with different action spaces may\n",
    "    # require different policies. For example with a Discrete action space, a\n",
    "    # CategoricalMLPPolicy works, but for a Box action space may need to use\n",
    "    # a GaussianMLPPolicy (see the trpo_gym_pendulum.py example)\n",
    "    env_real = normalize(GymEnv(env_name,record_video=False, record_log=False))\n",
    "    model_body_mass = env_real.wrapped_env.env.env.model.body_mass    \n",
    "    print(\"real mass: \", model_body_mass)    \n",
    "    bounds = []\n",
    "    for i in range(0,model_body_mass.shape[0]):\n",
    "        bounds.append({'name': 'mass', 'type': 'continuous', 'domain': (model_body_mass[i,0]*0.5,model_body_mass[i,0]*1.5)})\n",
    "    \n",
    "    env_sim = normalize(GymEnv(env_name,record_video=False, record_log=False))\n",
    "    \n",
    "    op = random.choice([add, sub])\n",
    "    factor = op(1,0.5*np.random.random_sample())\n",
    "    mb = env_sim.wrapped_env.env.env.model.body_mass\n",
    "    mb = np.array(mb)\n",
    "    mb = mb*factor\n",
    "    env_sim.wrapped_env.env.env.model.body_mass = mb\n",
    "    policy = GaussianMLPPolicy(\n",
    "        env_spec=env_sim.spec,\n",
    "        # The neural network policy should have two hidden layers, each with 32 hidden units.\n",
    "        hidden_sizes=(32, 32)\n",
    "    )\n",
    "    \n",
    "    X_init = np.empty(shape=(0, 0))\n",
    "    Y_init = np.empty(shape=(0, 0))\n",
    "    \n",
    "    baseline = LinearFeatureBaseline(env_spec=env_sim.spec)\n",
    "    \n",
    "    algo = TRPO(\n",
    "            env=env_sim,\n",
    "            policy=policy,\n",
    "            baseline=baseline,\n",
    "            batch_size=4000,\n",
    "            max_path_length=1000,\n",
    "            n_itr=10,\n",
    "            discount=0.99,\n",
    "            step_size=0.01,\n",
    "    #         Uncomment both lines (this and the plot parameter below) to enable plotting\n",
    "    #         plot=True,\n",
    "        )\n",
    "    for i in range(0,num_iters):\n",
    "        print(\"iter: \", i)\n",
    "#         algo.n_itr = algo.n_itr + test_iter\n",
    "        current_mass = algo.env.wrapped_env.env.env.model.body_mass\n",
    "        print(\"algo env mass: \", current_mass)\n",
    "        algo.train()\n",
    "        \n",
    "        ################### Testing in GT parameter #################\n",
    "#         print(\"algo sim mass: \", algo.env.wrapped_env.env.env.model.body_mass)\n",
    "#         sampler_cls = BatchSampler\n",
    "#         sampler = sampler_cls(algo)\n",
    "#         sampler.start_worker()\n",
    "#         paths = sampler.obtain_samples(1)\n",
    "#         paths_returns = [sum(path[\"rewards\"]) for path in paths]\n",
    "#         sampler.shutdown_worker()\n",
    "#         print(\"Sim sample ave returns:  \\n\\n\\n\\n\", np.mean(paths_returns))   \n",
    "        \n",
    "        \n",
    "#         print(\"algo sim mass: \", algo.env.wrapped_env.env.env.model.body_mass)\n",
    "#         parallel_sampler.populate_task(algo.env, algo.policy, scope=algo.scope)\n",
    "#         paths = parallel_sampler.sample_paths(\n",
    "#             policy_params=algo.policy.get_param_values(),\n",
    "#             max_samples=algo.batch_size,\n",
    "#             max_path_length=algo.max_path_length,\n",
    "#             env_params=algo.env.get_param_values(),\n",
    "#             scope=algo.scope,\n",
    "#         )\n",
    "#         paths_returns = [sum(path[\"rewards\"]) for path in paths]\n",
    "#         parallel_sampler.terminate_task(scope=algo.scope)\n",
    "#         print(\"Sim sample ave returns: \", np.mean(paths_returns), \"\\n\\n\\n\\n\")   \n",
    "                \n",
    "        env_real = normalize(GymEnv(env_name,record_video=False, record_log=False))\n",
    "        print(\"real mass: \", env_real.wrapped_env.env.env.model.body_mass)\n",
    "        parallel_sampler.populate_task(env_real, algo.policy, scope=algo.scope)\n",
    "        paths_real = parallel_sampler.sample_paths(\n",
    "            policy_params=algo.policy.get_param_values(),\n",
    "            max_samples=algo.batch_size,\n",
    "            max_path_length=algo.max_path_length,\n",
    "            env_params=env_real.get_param_values(),\n",
    "            scope=algo.scope,\n",
    "        )\n",
    "        paths_real_returns = [sum(path[\"rewards\"]) for path in paths_real]\n",
    "        parallel_sampler.terminate_task(scope=algo.scope)\n",
    "        ave_returns = np.mean(paths_real_returns)\n",
    "        print(\"Real sample ave returns: \", ave_returns, \"\\n\\n\\n\\n\")\n",
    "        returns.append(ave_returns)\n",
    "        \n",
    "#         algo_real = copy.deepcopy(algo)\n",
    "#         algo_real.env = env_real\n",
    "#         print(\"algo real mass: \", algo_real.env.wrapped_env.env.env.model.body_mass)\n",
    "#         sampler_cls = BatchSampler\n",
    "#         sampler = sampler_cls(algo_real)\n",
    "#         sampler.start_worker()\n",
    "#         paths = sampler.obtain_samples(1)\n",
    "#         paths_returns = [sum(path[\"rewards\"]) for path in paths]\n",
    "#         sampler.shutdown_worker()\n",
    "#         print(\"Real sample ave returns:\", np.mean(paths_returns), \"\\n\\n\\n\\n\")   \n",
    "#         returns.append(np.mean(paths_returns))\n",
    "        \n",
    "        env_real = normalize(GymEnv(env_name,record_video=False, record_log=False))\n",
    "        print(\"real mass: \", env_real.wrapped_env.env.env.model.body_mass)\n",
    "        path = collect_data(env_real, algo.policy, max_path_length=1000,\n",
    "                       animated=False, speedup=1)\n",
    "        path[\"returns\"] = sum(path[\"rewards\"])\n",
    "        print(\"real returns:  \", path['returns'], path['rewards'].shape , \"\\n\\n\\n\\n\")\n",
    "#         returns.append(path['returns'])\n",
    "        \n",
    "        global states, observations, actions\n",
    "        states = path['states']\n",
    "        observations = path['observations']\n",
    "        actions = path['actions']\n",
    "\n",
    "        print(\"sim mass: \", algo.env.wrapped_env.env.env.model.body_mass)\n",
    "        path_2 = rollout(algo.env, algo.policy, max_path_length=1000,\n",
    "                       animated=False, speedup=1)\n",
    "        path_2[\"returns\"] = sum(path_2[\"rewards\"])\n",
    "        print(\"sim returns: \", path_2['returns'], path_2[\"rewards\"].shape, \"\\n\\n\\n\\n\") \n",
    "        \n",
    "#         env_sim_test = normalize(GymEnv(env_name,record_video=False, record_log=False))\n",
    "# #         env_sim_test.wrapped_env.env.env.model.body_mass = np.array(current_mass)\n",
    "#         print(\"sim test mass: \", env_sim_test.wrapped_env.env.env.model.body_mass)\n",
    "#         path_2 = rollout(env_sim_test, algo.policy, max_path_length=1000,\n",
    "#                        animated=False, speedup=1)\n",
    "#         path_2[\"returns\"] = sum(path_2[\"rewards\"])\n",
    "#         print(\"sim test returns: \", path_2['returns'], path_2[\"rewards\"].shape, \"\\n\\n\\n\\n\") \n",
    "        \n",
    "#         if i==1:\n",
    "#             model_body_mass = env_sim.wrapped_env.env.env.model.body_mass\n",
    "#             bounds = []\n",
    "#             for i in range(0,model_body_mass.shape[0]):\n",
    "#                 bounds.append({'name': 'mass', 'type': 'continuous', 'domain': (model_body_mass[i,0]*0.9,model_body_mass[i,0]*1.1)})\n",
    "        \n",
    "        myBopt = BO(bounds, X_init, Y_init)\n",
    "        X_init = myBopt.X\n",
    "        Y_init = myBopt.Y\n",
    "# #         algo.env.wrapped_env.env.env.model.body_mass = np.array(myBopt.x_opt)\n",
    "        \n",
    "        env_sim_new = normalize(GymEnv(env_name,record_video=False, record_log=False))        \n",
    "#         ## update env_sim with new boday_mass from BO\n",
    "        env_sim_new.wrapped_env.env.env.model.body_mass = np.array(myBopt.x_opt)\n",
    "        algo = TRPO(\n",
    "            env=env_sim_new,\n",
    "            policy=policy,\n",
    "            baseline=baseline,\n",
    "            batch_size=4000,\n",
    "            max_path_length=1000,\n",
    "            n_itr=10,\n",
    "            discount=0.99,\n",
    "            step_size=0.01,\n",
    "    #         Uncomment both lines (this and the plot parameter below) to enable plotting\n",
    "    #         plot=True,\n",
    "        )\n",
    "        algo.env = env_sim_new        \n",
    "        ##############################################################\n",
    "        \n",
    "    print(\"returns: \", returns)\n",
    "    now = datetime.now()\n",
    "    save_data_filename = \"BO_returns_\"+env_name+\"_iter_\"+str(total_iter)+\"_\"+str(now)\n",
    "    with open(save_data_filename, 'wb') as f:\n",
    "        pickle.dump(returns, f)\n"
   ]
  },
  {
   "cell_type": "code",
   "execution_count": 128,
   "metadata": {
    "collapsed": false
   },
   "outputs": [
    {
     "name": "stdout",
     "output_type": "stream",
     "text": [
      "seed:  1\n",
      "python /home/zhusj/repos/rllab/scripts/run_experiment_lite.py  --args_data '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'  --snapshot_mode 'last'  --use_cloudpickle 'True'  --exp_name 'BO_trpoSwimmer-v1_32_32_4000_10_2017_09_07_18_13_20_0056'  --log_dir '/home/zhusj/repos/rllab/data/local/BO-trpoSwimmer-v1-32-32-4000-10/BO_trpoSwimmer-v1_32_32_4000_10_2017_09_07_18_13_20_0056'  --variant_data 'gAN9cQBYCAAAAGV4cF9uYW1lcQFYOAAAAEJPX3RycG9Td2ltbWVyLXYxXzMyXzMyXzQwMDBfMTBfMjAxN18wOV8wN18xOF8xM18yMF8wMDU2cQJzLg=='  --n_parallel '1'  --seed '1'\n"
     ]
    },
    {
     "ename": "KeyboardInterrupt",
     "evalue": "",
     "output_type": "error",
     "traceback": [
      "\u001b[0;31m---------------------------------------------------------------------------\u001b[0m",
      "\u001b[0;31mKeyboardInterrupt\u001b[0m                         Traceback (most recent call last)",
      "\u001b[0;32m<ipython-input-128-ca14d274866c>\u001b[0m in \u001b[0;36m<module>\u001b[0;34m()\u001b[0m\n\u001b[1;32m     11\u001b[0m         \u001b[0;31m# will be used\u001b[0m\u001b[0;34m\u001b[0m\u001b[0;34m\u001b[0m\u001b[0m\n\u001b[1;32m     12\u001b[0m         \u001b[0mseed\u001b[0m\u001b[0;34m=\u001b[0m\u001b[0mv\u001b[0m\u001b[0;34m[\u001b[0m\u001b[0;34m\"seed\"\u001b[0m\u001b[0;34m]\u001b[0m\u001b[0;34m,\u001b[0m\u001b[0;34m\u001b[0m\u001b[0m\n\u001b[0;32m---> 13\u001b[0;31m         \u001b[0mexp_prefix\u001b[0m \u001b[0;34m=\u001b[0m \u001b[0;34m\"BO_trpo\"\u001b[0m\u001b[0;34m+\u001b[0m\u001b[0menv_name\u001b[0m\u001b[0;34m+\u001b[0m\u001b[0;34m\"_32_32_4000_10\"\u001b[0m\u001b[0;34m,\u001b[0m\u001b[0;34m\u001b[0m\u001b[0m\n\u001b[0m\u001b[1;32m     14\u001b[0m     \u001b[0;31m#     plot=True,\u001b[0m\u001b[0;34m\u001b[0m\u001b[0;34m\u001b[0m\u001b[0m\n\u001b[1;32m     15\u001b[0m     )\n",
      "\u001b[0;32m/home/zhusj/repos/rllab/rllab/misc/instrument.py\u001b[0m in \u001b[0;36mrun_experiment_lite\u001b[0;34m(stub_method_call, batch_tasks, exp_prefix, exp_name, log_dir, script, python_command, mode, dry, docker_image, aws_config, env, variant, use_gpu, sync_s3_pkl, sync_s3_png, sync_s3_log, sync_log_on_termination, confirm_remote, terminate_machine, periodic_sync, periodic_sync_interval, sync_all_data_node_to_s3, use_cloudpickle, pre_commands, added_project_directories, **kwargs)\u001b[0m\n\u001b[1;32m    492\u001b[0m                     \u001b[0menv\u001b[0m \u001b[0;34m=\u001b[0m \u001b[0mdict\u001b[0m\u001b[0;34m(\u001b[0m\u001b[0;34m)\u001b[0m\u001b[0;34m\u001b[0m\u001b[0m\n\u001b[1;32m    493\u001b[0m                 subprocess.call(\n\u001b[0;32m--> 494\u001b[0;31m                     command, shell=True, env=dict(os.environ, **env))\n\u001b[0m\u001b[1;32m    495\u001b[0m             \u001b[0;32mexcept\u001b[0m \u001b[0mException\u001b[0m \u001b[0;32mas\u001b[0m \u001b[0me\u001b[0m\u001b[0;34m:\u001b[0m\u001b[0;34m\u001b[0m\u001b[0m\n\u001b[1;32m    496\u001b[0m                 \u001b[0mprint\u001b[0m\u001b[0;34m(\u001b[0m\u001b[0me\u001b[0m\u001b[0;34m)\u001b[0m\u001b[0;34m\u001b[0m\u001b[0m\n",
      "\u001b[0;32m/home/zhusj/anaconda2/envs/rllab3/lib/python3.5/subprocess.py\u001b[0m in \u001b[0;36mcall\u001b[0;34m(timeout, *popenargs, **kwargs)\u001b[0m\n\u001b[1;32m    557\u001b[0m     \u001b[0;32mwith\u001b[0m \u001b[0mPopen\u001b[0m\u001b[0;34m(\u001b[0m\u001b[0;34m*\u001b[0m\u001b[0mpopenargs\u001b[0m\u001b[0;34m,\u001b[0m \u001b[0;34m**\u001b[0m\u001b[0mkwargs\u001b[0m\u001b[0;34m)\u001b[0m \u001b[0;32mas\u001b[0m \u001b[0mp\u001b[0m\u001b[0;34m:\u001b[0m\u001b[0;34m\u001b[0m\u001b[0m\n\u001b[1;32m    558\u001b[0m         \u001b[0;32mtry\u001b[0m\u001b[0;34m:\u001b[0m\u001b[0;34m\u001b[0m\u001b[0m\n\u001b[0;32m--> 559\u001b[0;31m             \u001b[0;32mreturn\u001b[0m \u001b[0mp\u001b[0m\u001b[0;34m.\u001b[0m\u001b[0mwait\u001b[0m\u001b[0;34m(\u001b[0m\u001b[0mtimeout\u001b[0m\u001b[0;34m=\u001b[0m\u001b[0mtimeout\u001b[0m\u001b[0;34m)\u001b[0m\u001b[0;34m\u001b[0m\u001b[0m\n\u001b[0m\u001b[1;32m    560\u001b[0m         \u001b[0;32mexcept\u001b[0m\u001b[0;34m:\u001b[0m\u001b[0;34m\u001b[0m\u001b[0m\n\u001b[1;32m    561\u001b[0m             \u001b[0mp\u001b[0m\u001b[0;34m.\u001b[0m\u001b[0mkill\u001b[0m\u001b[0;34m(\u001b[0m\u001b[0;34m)\u001b[0m\u001b[0;34m\u001b[0m\u001b[0m\n",
      "\u001b[0;32m/home/zhusj/anaconda2/envs/rllab3/lib/python3.5/subprocess.py\u001b[0m in \u001b[0;36mwait\u001b[0;34m(self, timeout, endtime)\u001b[0m\n\u001b[1;32m   1656\u001b[0m                         \u001b[0;32mif\u001b[0m \u001b[0mself\u001b[0m\u001b[0;34m.\u001b[0m\u001b[0mreturncode\u001b[0m \u001b[0;32mis\u001b[0m \u001b[0;32mnot\u001b[0m \u001b[0;32mNone\u001b[0m\u001b[0;34m:\u001b[0m\u001b[0;34m\u001b[0m\u001b[0m\n\u001b[1;32m   1657\u001b[0m                             \u001b[0;32mbreak\u001b[0m  \u001b[0;31m# Another thread waited.\u001b[0m\u001b[0;34m\u001b[0m\u001b[0m\n\u001b[0;32m-> 1658\u001b[0;31m                         \u001b[0;34m(\u001b[0m\u001b[0mpid\u001b[0m\u001b[0;34m,\u001b[0m \u001b[0msts\u001b[0m\u001b[0;34m)\u001b[0m \u001b[0;34m=\u001b[0m \u001b[0mself\u001b[0m\u001b[0;34m.\u001b[0m\u001b[0m_try_wait\u001b[0m\u001b[0;34m(\u001b[0m\u001b[0;36m0\u001b[0m\u001b[0;34m)\u001b[0m\u001b[0;34m\u001b[0m\u001b[0m\n\u001b[0m\u001b[1;32m   1659\u001b[0m                         \u001b[0;31m# Check the pid and loop as waitpid has been known to\u001b[0m\u001b[0;34m\u001b[0m\u001b[0;34m\u001b[0m\u001b[0m\n\u001b[1;32m   1660\u001b[0m                         \u001b[0;31m# return 0 even without WNOHANG in odd situations.\u001b[0m\u001b[0;34m\u001b[0m\u001b[0;34m\u001b[0m\u001b[0m\n",
      "\u001b[0;32m/home/zhusj/anaconda2/envs/rllab3/lib/python3.5/subprocess.py\u001b[0m in \u001b[0;36m_try_wait\u001b[0;34m(self, wait_flags)\u001b[0m\n\u001b[1;32m   1606\u001b[0m             \u001b[0;34m\"\"\"All callers to this function MUST hold self._waitpid_lock.\"\"\"\u001b[0m\u001b[0;34m\u001b[0m\u001b[0m\n\u001b[1;32m   1607\u001b[0m             \u001b[0;32mtry\u001b[0m\u001b[0;34m:\u001b[0m\u001b[0;34m\u001b[0m\u001b[0m\n\u001b[0;32m-> 1608\u001b[0;31m                 \u001b[0;34m(\u001b[0m\u001b[0mpid\u001b[0m\u001b[0;34m,\u001b[0m \u001b[0msts\u001b[0m\u001b[0;34m)\u001b[0m \u001b[0;34m=\u001b[0m \u001b[0mos\u001b[0m\u001b[0;34m.\u001b[0m\u001b[0mwaitpid\u001b[0m\u001b[0;34m(\u001b[0m\u001b[0mself\u001b[0m\u001b[0;34m.\u001b[0m\u001b[0mpid\u001b[0m\u001b[0;34m,\u001b[0m \u001b[0mwait_flags\u001b[0m\u001b[0;34m)\u001b[0m\u001b[0;34m\u001b[0m\u001b[0m\n\u001b[0m\u001b[1;32m   1609\u001b[0m             \u001b[0;32mexcept\u001b[0m \u001b[0mChildProcessError\u001b[0m\u001b[0;34m:\u001b[0m\u001b[0;34m\u001b[0m\u001b[0m\n\u001b[1;32m   1610\u001b[0m                 \u001b[0;31m# This happens if SIGCLD is set to be ignored or waiting\u001b[0m\u001b[0;34m\u001b[0m\u001b[0;34m\u001b[0m\u001b[0m\n",
      "\u001b[0;31mKeyboardInterrupt\u001b[0m: "
     ]
    }
   ],
   "source": [
    "variants = VG().variants()\n",
    "for v in variants:\n",
    "    print(\"seed: \", v[\"seed\"])\n",
    "    run_experiment_lite(\n",
    "        run_task,\n",
    "        # Number of parallel workers for sampling\n",
    "        n_parallel=1,\n",
    "        # Only keep the snapshot parameters for the last iteration\n",
    "        snapshot_mode=\"last\",\n",
    "        # Specifies the seed for the experiment. If this is not provided, a random seed\n",
    "        # will be used\n",
    "        seed=v[\"seed\"],\n",
    "        exp_prefix = \"BO_trpo\"+env_name+\"_32_32_4000_10\",\n",
    "    #     plot=True,\n",
    "    )"
   ]
  },
  {
   "cell_type": "code",
   "execution_count": 59,
   "metadata": {
    "collapsed": false
   },
   "outputs": [
    {
     "name": "stdout",
     "output_type": "stream",
     "text": [
      "python /home/zhusj/repos/rllab/scripts/run_experiment_lite.py  --args_data 'gAJjY2xvdWRwaWNrbGUuY2xvdWRwaWNrbGUKX2ZpbGxfZnVuY3Rpb24KcQAoY2Nsb3VkcGlja2xlLmNsb3VkcGlja2xlCl9tYWtlX3NrZWxfZnVuYwpxAWNjbG91ZHBpY2tsZS5jbG91ZHBpY2tsZQpfYnVpbHRpbl90eXBlCnECWAgAAABDb2RlVHlwZXEDhXEEUnEFKEsASwBLGEsSS0djX2NvZGVjcwplbmNvZGUKcQZYBAYAAHQAAHQBAHQCAGQBAGQCAGQDAGQCAMKDAQLCgwEAfQEAdAMAZAQAfAEAagQAagUAagUAagYAagcAwoMCAAF8AQBqBABqBQBqBQBqBgBqBwB9AgBnAAB9AwB4XwB0CABkBQB8AgBqCQBkBQAZwoMCAERdRwB9BAB8AwBqCgBkBgBkBwBkCABkCQBkCgB8AgB8BABkBQBmAgAZZAsAFHwCAHwEAGQFAGYCABlkDAAUZgIAaQMAwoMBAAFxbABXdAsAZA0AfAEAagwAZA4AZDsAwoMAAn0FAHQNAGoOAGQQAGQ8AMKDAAF9BgB0DQBqDgBkEABkPQDCgwABfQcAdA8AZA0AfAEAagwAwoMAAX0IAHQQAGQRAHwBAGQSAHwFAGQTAHwIAGQUAGQVAGQWAGQXAGQYAGQZAGQaAGQbAGQcAGQdAMKDAAh9CQB4HgR0CABkBQB0EQDCgwIARF0NBH0EAHQDAGQeAHwEAMKDAgABfAkAagUAagQAagUAagUAagYAagcAfQoAdAMAZB8AfAoAwoMCAAF8CQBqEgDCgwAAAXQAAHQBAHQCAGQBAGQCAGQDAGQCAMKDAQLCgwEAfQsAfAsAagQAagUAagUAagYAagcAfQwAdA0AahMAfAwAwoMBAH0MAHwMAGQgABR9DAB8DAB8CwBqBABqBQBqBQBqBgBfBwB0AwBkIQB8CwBqBABqBQBqBQBqBgBqBwDCgwIAAXQUAGoVAHwLAHwJAGoWAGQiAHwJAGoXAMKDAgEBdBQAahgAZCMAfAkAahYAahkAwoMAAGQkAHwJAGoaAGQWAHwJAGobAGQlAHwLAGoZAMKDAABkIgB8CQBqFwDCgwAFfQ0AZCYAZCcAwoQAAHwNAETCgwEAfQ4AdBQAahwAZCIAfAkAahcAwoMAAQF0DQBqHQB8DgDCgwEAfQ8AdAMAZCgAfA8AZCkAwoMDAAF0HgBqCgB8DwDCgwEAAXQAAHQBAHQCAGQBAGQCAGQDAGQCAMKDAQLCgwEAfQsAfAsAagQAagUAagUAagYAagcAfQwAdA0AahMAfAwAwoMBAH0MAHwMAGQgABR9DAB8DAB8CwBqBABqBQBqBQBqBgBfBwB0AwBkIQB8CwBqBABqBQBqBQBqBgBqBwDCgwIAAXQfAHwLAHwJAGoWAGQWAGQXAGQqAGQCAGQrAGQsAMKDAgN9EAB0IAB8EABkLQAZwoMBAHwQAGQuADx0AwBkLwB8EABkLgAZfBAAZC0AGWoJAGQpAMKDBAABfBAAZDAAGWEhAHwQAGQxABlhIgB8EABkMgAZYSMAdAMAZAQAfAkAagUAagQAagUAagUAagYAagcAwoMCAAF0JAB8CQBqBQB8CQBqFgBkFgBkFwBkKgBkAgBkKwBkLADCgwIDfREAdCAAfBEAZC0AGcKDAQB8EQBkLgA8dAMAZDMAfBEAZC4AGXwRAGQtABlqCQBkKQDCgwQAAXQAAHQBAHQCAGQBAGQCAGQDAGQCAMKDAQLCgwEAfRIAdAMAZDQAfBIAagQAagUAagUAagYAagcAwoMCAAF0JAB8EgB8CQBqFgBkFgBkFwBkKgBkAgBkKwBkLADCgwIDfREAdCAAfBEAZC0AGcKDAQB8EQBkLgA8dAMAZDUAfBEAZC4AGXwRAGQtABlqCQBkKQDCgwQAAXQlAHwDAHwGAHwHAMKDAwB9EwB8EwBqJgB9BgB8EwBqJwB9BwB0AAB0AQB0AgBkAQBkAgBkAwBkAgDCgwECwoMBAH0UAHQNAGoTAHwTAGooAMKDAQB8FABqBABqBQBqBQBqBgBfBwB0EABkEQB8FABkEgB8BQBkEwB8CABkFABkFQBkFgBkFwBkGABkGQBkGgBkGwBkHABkHQDCgwAIfQkAfBQAfAkAXwUAcU4BV3QDAGQ2AHQeAMKDAgABdCkAaioAwoMAAH0VAGQ3AHQCABdkOAAXdCsAdCwAwoMBABdkOQAXdCsAfBUAwoMBABd9FgB0LQB8FgBkOgDCgwIAwo8XAH0XAHQuAGovAHQeAHwXAMKDAgABV2QAAFFSWGQAAFNxB1gGAAAAbGF0aW4xcQiGcQlScQooTlgMAAAAcmVjb3JkX3ZpZGVvcQuJWAoAAAByZWNvcmRfbG9ncQxYCgAAAHNpbSBtYXNzOiBxDUsAWAQAAABuYW1lcQ5YBAAAAG1hc3NxD1gEAAAAdHlwZXEQWAoAAABjb250aW51b3VzcRFYBgAAAGRvbWFpbnESRz/gAAAAAAAARz/4AAAAAAAAWAgAAABlbnZfc3BlY3ETWAwAAABoaWRkZW5fc2l6ZXNxFEsgWAUAAABzaGFwZXEVWAMAAABlbnZxFlgGAAAAcG9saWN5cRdYCAAAAGJhc2VsaW5lcRhYCgAAAGJhdGNoX3NpemVxGU2gD1gPAAAAbWF4X3BhdGhfbGVuZ3RocRpN6ANYBQAAAG5faXRycRtLClgIAAAAZGlzY291bnRxHEc/764UeuFHrlgJAAAAc3RlcF9zaXplcR1HP4R64UeuFHtYBgAAAGl0ZXI6IHEeWA8AAABhbGdvIGVudiBtYXNzOiBxH0c/4zMzMzMzM1gLAAAAcmVhbCBtYXNzOiBxIFgFAAAAc2NvcGVxIVgNAAAAcG9saWN5X3BhcmFtc3EiWAsAAABtYXhfc2FtcGxlc3EjWAoAAABlbnZfcGFyYW1zcSRoBShLAUsASwJLBUtTaAZYIgAAAGcAAHwAAF0WAH0BAHQAAHwBAGQAABnCgwEAwpECAHEGAFNxJWgIhnEmUnEnWAcAAAByZXdhcmRzcSiFcSlYAwAAAHN1bXEqhXErWAIAAAAuMHEsWAQAAABwYXRocS2GcS5YHwAAADxpcHl0aG9uLWlucHV0LTU5LTkzNzhjMDU5YzAxMT5xL1gKAAAAPGxpc3Rjb21wPnEwS1xoBlgCAAAACQBxMWgIhnEyUnEzKSl0cTRScTVYHAAAAHJ1bl90YXNrLjxsb2NhbHM+LjxsaXN0Y29tcD5xNlgZAAAAUmVhbCBzYW1wbGUgYXZlIHJldHVybnM6IHE3WAQAAAAKCgoKcThYCAAAAGFuaW1hdGVkcTlYBwAAAHNwZWVkdXBxOksBaChYBwAAAHJldHVybnNxO1gPAAAAcmVhbCByZXR1cm5zOiAgcTxYBgAAAHN0YXRlc3E9WAwAAABvYnNlcnZhdGlvbnNxPlgHAAAAYWN0aW9uc3E/WA0AAABzaW0gcmV0dXJuczogcUBYDwAAAHNpbSB0ZXN0IG1hc3M6IHFBWBIAAABzaW0gdGVzdCByZXR1cm5zOiBxQlgJAAAAcmV0dXJuczogcUNYCwAAAEJPX3JldHVybnNfcURYBgAAAF9pdGVyX3FFWAEAAABfcUZYAgAAAHdicUdLIEsghnFISwBLAIZxSUsASwCGcUp0cUsoWAkAAABub3JtYWxpemVxTFgGAAAAR3ltRW52cU1YCAAAAGVudl9uYW1lcU5YBQAAAHByaW50cU9YCwAAAHdyYXBwZWRfZW52cVBoFlgFAAAAbW9kZWxxUVgJAAAAYm9keV9tYXNzcVJYBQAAAHJhbmdlcVNoFVgGAAAAYXBwZW5kcVRYEQAAAEdhdXNzaWFuTUxQUG9saWN5cVVYBAAAAHNwZWNxVlgCAAAAbnBxV1gFAAAAZW1wdHlxWFgVAAAATGluZWFyRmVhdHVyZUJhc2VsaW5lcVlYBAAAAFRSUE9xWlgJAAAAbnVtX2l0ZXJzcVtYBQAAAHRyYWlucVxYBQAAAGFycmF5cV1YEAAAAHBhcmFsbGVsX3NhbXBsZXJxXlgNAAAAcG9wdWxhdGVfdGFza3FfaBdoIVgMAAAAc2FtcGxlX3BhdGhzcWBYEAAAAGdldF9wYXJhbV92YWx1ZXNxYWgZaBpYDgAAAHRlcm1pbmF0ZV90YXNrcWJYBAAAAG1lYW5xY2g7WAwAAABjb2xsZWN0X2RhdGFxZGgqaD1oPmg/WAcAAAByb2xsb3V0cWVYAgAAAEJPcWZYAQAAAFhxZ1gBAAAAWXFoWAUAAAB4X29wdHFpWAgAAABkYXRldGltZXFqWAMAAABub3dxa1gDAAAAc3RycWxYCgAAAHRvdGFsX2l0ZXJxbVgEAAAAb3BlbnFuWAYAAABwaWNrbGVxb1gEAAAAZHVtcHFwdHFxKGhGWAcAAABlbnZfc2ltcXJYDwAAAG1vZGVsX2JvZHlfbWFzc3FzWAYAAABib3VuZHNxdFgBAAAAaXF1aBdYBgAAAFhfaW5pdHF2WAYAAABZX2luaXRxd2gYWAQAAABhbGdvcXhYDAAAAGN1cnJlbnRfbWFzc3F5WAgAAABlbnZfcmVhbHF6WAIAAABtYnF7WAoAAABwYXRoc19yZWFscXxYEgAAAHBhdGhzX3JlYWxfcmV0dXJuc3F9WAsAAABhdmVfcmV0dXJuc3F+aC1YBgAAAHBhdGhfMnF/WAwAAABlbnZfc2ltX3Rlc3RxgFgGAAAAbXlCb3B0cYFYCwAAAGVudl9zaW1fbmV3cYJoa1gSAAAAc2F2ZV9kYXRhX2ZpbGVuYW1lcYNYAQAAAGZxhHRxhWgvWAgAAABydW5fdGFza3GGSwhoBliwAAAAAAUeARwEFQEGAR0BRQMGAQkCCQMSARICEgIGAQYBBgEGAQYBBgEGAQYBCQQWAQ0CGAENAQoaHgEVAQ8BCgEVARwBHAEJAQ8BCQEJAQwBDAITARMBDwEQAQ0OHgEVAQ8BCgEVARwBFQEPARQBHgQKAQoBCgIfARgBDwEUAR4CHgIcARUBDwEUAR4IEgEJAQkDHgIhAQYBBgEGAQYBBgEGAQYBBgEJBA0DDQEMASYBEgFxh2gIhnGIUnGJKSl0cYpScYtdcYx9cY2HcY5ScY99cZAoaExjcmxsYWIuZW52cy5ub3JtYWxpemVkX2VudgpOb3JtYWxpemVkRW52CnGRaGpjZGF0ZXRpbWUKZGF0ZXRpbWUKcZJoZmgAKGgBaAUoSwNLAEsESwhLQ2gGWJUAAAB0AABkAQB8AADCgwIAAXQAAGQCAHwBAGoBAMKDAgABfAEAagEAZAMAawIAckcAdAIAagMAagQAdAUAZAQAfAAAwoMBAX0DAG4kAHQCAGoDAGoEAHQFAGQEAHwAAGQFAHwBAGQGAHwCAMKDAQN9AwB8AwBqBgBkBwBkCADCgwABAXQAAGQJAHwDAGoHAMKDAgABfAMAU3GTaAiGcZRScZUoTlgIAAAAYm91bmRzOiBxllgNAAAAWF9pbml0IHNpemU6IHGXSwBoEmhnaGhYCAAAAG1heF90aW1lcZhLFFgOAAAAbXlCb3B0Lnhfb3B0OiBxmXRxmihoT1gEAAAAc2l6ZXGbWAYAAABHUHlPcHRxnFgHAAAAbWV0aG9kc3GdWBQAAABCYXllc2lhbk9wdGltaXphdGlvbnGeWAMAAABteWZxn1gQAAAAcnVuX29wdGltaXphdGlvbnGgaGl0caEoaHRodmh3aIF0caJYHwAAADxpcHl0aG9uLWlucHV0LTM4LTY4NmNhYmYwYjEzOT5xo2hmSwFoBlgQAAAAAAENARACDwEbAiQBEAEQAXGkaAiGcaVScaYpKXRxp1JxqF1xqWiNh3GqUnGrfXGsKGifaAAoaAFoBShLAUsASwtLB0tDaAZYbAEAAHwAAGoAAH0AAHQBAHQCAHQDAGQBAGQCAGQDAGQCAMKDAQLCgwEAfQEAfAAAfAEAagQAagUAagUAagYAXwcAfAEAagQAagUAagUAagYAaggAagkAagoAZAQAGX0CAHwBAGoEAGoFAGoFAGoLAHQMAGQEAGQAAHwCAMKFAgBmAgAZdAwAZAQAfAIAZAAAwoUCAGYCABnCgwIAAWcAAH0DAGcAAH0EAHwBAGoNAMKDAAABeGMAdA4AZAQAdA8AagoAZAQAGcKDAgBEXUsAfQUAfAEAahAAdA8AfAUAZAAAZAAAwoUCAGYCABnCgwEAXAQAfQYAfQcAfQgAfQkAfAQAahEAfAcAwoMBAAF8AwBqEQB8BgDCgwEAAXHDgQBXdBIAdBIAdBMAdBQAZAUAZAAAwoUCAGQAAGQAAMKFAgBmAgAZdBUAahYAfAMAwoMBABjCgwEAwoMBAMKDAQB0FABqCgBkBAAZG30KAHwKAFNxrWgIhnGuUnGvKE5oC4loDEsASwF0cbAoWAEAAABUcbFoTGhNaE5oUGgWaFFoUlgEAAAAZGF0YXGyWAQAAABxcG9zcbNoFVgJAAAAc2V0X3N0YXRlcbRoPVgFAAAAcmVzZXRxtWhTaD9YBAAAAHN0ZXBxtmhUaCpYAwAAAGFic3G3aD5oV2hddHG4KGhnWAoAAABlbnZfc2ltX0JPcblYAwAAAGRpbXG6WAoAAABzaW1fc3RhdGVzcbtoKGh1WAYAAABuZXh0X29xvFgBAAAAcnG9WAEAAABkcb5YCAAAAGVudl9pbmZvcb9YBAAAAGRpc3RxwHRxwVgfAAAAPGlweXRob24taW5wdXQtMzctY2NhMmFmYWQxMDlhPnHCaJ9LAWgGWBwAAAAAAQkJHgEVAh8EOQMGAQYBCgIdASsBDQERA0YEccNoCIZxxFJxxSkpdHHGUnHHXXHIaI2HcclSccp9ccsoaExokWhXY2Nsb3VkcGlja2xlLmNsb3VkcGlja2xlCnN1YmltcG9ydApxzFgFAAAAbnVtcHlxzYVxzlJxz2hOWAoAAABTd2ltbWVyLXYxcdBoTWNybGxhYi5lbnZzLmd5bV9lbnYKR3ltRW52CnHRdU59cdJ0UmicaMxonIVx01Jx1HVOfXHVdFJoW0soaE1o0WhtTZABaFljcmxsYWIuYmFzZWxpbmVzLmxpbmVhcl9mZWF0dXJlX2Jhc2VsaW5lCkxpbmVhckZlYXR1cmVCYXNlbGluZQpx1mhkY3JsbGFiLnNhbXBsZXIudXRpbHMKY29sbGVjdF9kYXRhCnHXaF5ozFgeAAAAcmxsYWIuc2FtcGxlci5wYXJhbGxlbF9zYW1wbGVycdiFcdlScdpoVWNybGxhYi5wb2xpY2llcy5nYXVzc2lhbl9tbHBfcG9saWN5CkdhdXNzaWFuTUxQUG9saWN5CnHbaGVjcmxsYWIuc2FtcGxlci51dGlscwpyb2xsb3V0CnHcaFdoz2g7XXHdaE5o0GhaY3JsbGFiLmFsZ29zLnRycG8KVFJQTwpx3mhvaMxob4Vx31Jx4HVOfXHhdFIu'  --snapshot_mode 'last'  --use_cloudpickle 'True'  --exp_name 'BO_trpoSwimmer-v1_32_32_4000_10_2017_09_07_18_13_20_0038'  --log_dir '/home/zhusj/repos/rllab/data/local/BO-trpoSwimmer-v1-32-32-4000-10/BO_trpoSwimmer-v1_32_32_4000_10_2017_09_07_18_13_20_0038'  --variant_data 'gAN9cQBYCAAAAGV4cF9uYW1lcQFYOAAAAEJPX3RycG9Td2ltbWVyLXYxXzMyXzMyXzQwMDBfMTBfMjAxN18wOV8wN18xOF8xM18yMF8wMDM4cQJzLg=='  --n_parallel '1'  --seed '1'\n",
      "python /home/zhusj/repos/rllab/scripts/run_experiment_lite.py  --args_data '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'  --snapshot_mode 'last'  --use_cloudpickle 'True'  --exp_name 'BO_trpoSwimmer-v1_32_32_4000_10_2017_09_07_18_13_20_0039'  --log_dir '/home/zhusj/repos/rllab/data/local/BO-trpoSwimmer-v1-32-32-4000-10/BO_trpoSwimmer-v1_32_32_4000_10_2017_09_07_18_13_20_0039'  --variant_data 'gAN9cQBYCAAAAGV4cF9uYW1lcQFYOAAAAEJPX3RycG9Td2ltbWVyLXYxXzMyXzMyXzQwMDBfMTBfMjAxN18wOV8wN18xOF8xM18yMF8wMDM5cQJzLg=='  --n_parallel '1'  --seed '1'\n",
      "python /home/zhusj/repos/rllab/scripts/run_experiment_lite.py  --args_data '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'  --snapshot_mode 'last'  --use_cloudpickle 'True'  --exp_name 'BO_trpoSwimmer-v1_32_32_4000_10_2017_09_07_18_13_20_0040'  --log_dir '/home/zhusj/repos/rllab/data/local/BO-trpoSwimmer-v1-32-32-4000-10/BO_trpoSwimmer-v1_32_32_4000_10_2017_09_07_18_13_20_0040'  --variant_data 'gAN9cQBYCAAAAGV4cF9uYW1lcQFYOAAAAEJPX3RycG9Td2ltbWVyLXYxXzMyXzMyXzQwMDBfMTBfMjAxN18wOV8wN18xOF8xM18yMF8wMDQwcQJzLg=='  --n_parallel '1'  --seed '1'\n",
      "python /home/zhusj/repos/rllab/scripts/run_experiment_lite.py  --args_data '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'  --snapshot_mode 'last'  --use_cloudpickle 'True'  --exp_name 'BO_trpoSwimmer-v1_32_32_4000_10_2017_09_07_18_13_20_0041'  --log_dir '/home/zhusj/repos/rllab/data/local/BO-trpoSwimmer-v1-32-32-4000-10/BO_trpoSwimmer-v1_32_32_4000_10_2017_09_07_18_13_20_0041'  --variant_data 'gAN9cQBYCAAAAGV4cF9uYW1lcQFYOAAAAEJPX3RycG9Td2ltbWVyLXYxXzMyXzMyXzQwMDBfMTBfMjAxN18wOV8wN18xOF8xM18yMF8wMDQxcQJzLg=='  --n_parallel '1'  --seed '1'\n",
      "python /home/zhusj/repos/rllab/scripts/run_experiment_lite.py  --args_data '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'  --snapshot_mode 'last'  --use_cloudpickle 'True'  --exp_name 'BO_trpoSwimmer-v1_32_32_4000_10_2017_09_07_18_13_20_0042'  --log_dir '/home/zhusj/repos/rllab/data/local/BO-trpoSwimmer-v1-32-32-4000-10/BO_trpoSwimmer-v1_32_32_4000_10_2017_09_07_18_13_20_0042'  --variant_data 'gAN9cQBYCAAAAGV4cF9uYW1lcQFYOAAAAEJPX3RycG9Td2ltbWVyLXYxXzMyXzMyXzQwMDBfMTBfMjAxN18wOV8wN18xOF8xM18yMF8wMDQycQJzLg=='  --n_parallel '1'  --seed '1'\n",
      "python /home/zhusj/repos/rllab/scripts/run_experiment_lite.py  --args_data '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'  --snapshot_mode 'last'  --use_cloudpickle 'True'  --exp_name 'BO_trpoSwimmer-v1_32_32_4000_10_2017_09_07_18_13_20_0043'  --log_dir '/home/zhusj/repos/rllab/data/local/BO-trpoSwimmer-v1-32-32-4000-10/BO_trpoSwimmer-v1_32_32_4000_10_2017_09_07_18_13_20_0043'  --variant_data 'gAN9cQBYCAAAAGV4cF9uYW1lcQFYOAAAAEJPX3RycG9Td2ltbWVyLXYxXzMyXzMyXzQwMDBfMTBfMjAxN18wOV8wN18xOF8xM18yMF8wMDQzcQJzLg=='  --n_parallel '1'  --seed '1'\n",
      "python /home/zhusj/repos/rllab/scripts/run_experiment_lite.py  --args_data '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'  --snapshot_mode 'last'  --use_cloudpickle 'True'  --exp_name 'BO_trpoSwimmer-v1_32_32_4000_10_2017_09_07_18_13_20_0044'  --log_dir '/home/zhusj/repos/rllab/data/local/BO-trpoSwimmer-v1-32-32-4000-10/BO_trpoSwimmer-v1_32_32_4000_10_2017_09_07_18_13_20_0044'  --variant_data 'gAN9cQBYCAAAAGV4cF9uYW1lcQFYOAAAAEJPX3RycG9Td2ltbWVyLXYxXzMyXzMyXzQwMDBfMTBfMjAxN18wOV8wN18xOF8xM18yMF8wMDQ0cQJzLg=='  --n_parallel '1'  --seed '1'\n"
     ]
    },
    {
     "ename": "KeyboardInterrupt",
     "evalue": "",
     "output_type": "error",
     "traceback": [
      "\u001b[0;31m---------------------------------------------------------------------------\u001b[0m",
      "\u001b[0;31mKeyboardInterrupt\u001b[0m                         Traceback (most recent call last)",
      "\u001b[0;32m<ipython-input-59-9378c059c011>\u001b[0m in \u001b[0;36m<module>\u001b[0;34m()\u001b[0m\n\u001b[1;32m    184\u001b[0m         \u001b[0;31m# will be used\u001b[0m\u001b[0;34m\u001b[0m\u001b[0;34m\u001b[0m\u001b[0m\n\u001b[1;32m    185\u001b[0m         \u001b[0mseed\u001b[0m\u001b[0;34m=\u001b[0m\u001b[0;36m1\u001b[0m\u001b[0;34m,\u001b[0m\u001b[0;34m\u001b[0m\u001b[0m\n\u001b[0;32m--> 186\u001b[0;31m         \u001b[0mexp_prefix\u001b[0m \u001b[0;34m=\u001b[0m \u001b[0;34m\"BO_trpo\"\u001b[0m\u001b[0;34m+\u001b[0m\u001b[0menv_name\u001b[0m\u001b[0;34m+\u001b[0m\u001b[0;34m\"_32_32_4000_10\"\u001b[0m\u001b[0;34m,\u001b[0m\u001b[0;34m\u001b[0m\u001b[0m\n\u001b[0m\u001b[1;32m    187\u001b[0m     \u001b[0;31m#     plot=True,\u001b[0m\u001b[0;34m\u001b[0m\u001b[0;34m\u001b[0m\u001b[0m\n\u001b[1;32m    188\u001b[0m     )\n",
      "\u001b[0;32m/home/zhusj/repos/rllab/rllab/misc/instrument.py\u001b[0m in \u001b[0;36mrun_experiment_lite\u001b[0;34m(stub_method_call, batch_tasks, exp_prefix, exp_name, log_dir, script, python_command, mode, dry, docker_image, aws_config, env, variant, use_gpu, sync_s3_pkl, sync_s3_png, sync_s3_log, sync_log_on_termination, confirm_remote, terminate_machine, periodic_sync, periodic_sync_interval, sync_all_data_node_to_s3, use_cloudpickle, pre_commands, added_project_directories, **kwargs)\u001b[0m\n\u001b[1;32m    492\u001b[0m                     \u001b[0menv\u001b[0m \u001b[0;34m=\u001b[0m \u001b[0mdict\u001b[0m\u001b[0;34m(\u001b[0m\u001b[0;34m)\u001b[0m\u001b[0;34m\u001b[0m\u001b[0m\n\u001b[1;32m    493\u001b[0m                 subprocess.call(\n\u001b[0;32m--> 494\u001b[0;31m                     command, shell=True, env=dict(os.environ, **env))\n\u001b[0m\u001b[1;32m    495\u001b[0m             \u001b[0;32mexcept\u001b[0m \u001b[0mException\u001b[0m \u001b[0;32mas\u001b[0m \u001b[0me\u001b[0m\u001b[0;34m:\u001b[0m\u001b[0;34m\u001b[0m\u001b[0m\n\u001b[1;32m    496\u001b[0m                 \u001b[0mprint\u001b[0m\u001b[0;34m(\u001b[0m\u001b[0me\u001b[0m\u001b[0;34m)\u001b[0m\u001b[0;34m\u001b[0m\u001b[0m\n",
      "\u001b[0;32m/home/zhusj/anaconda2/envs/rllab3/lib/python3.5/subprocess.py\u001b[0m in \u001b[0;36mcall\u001b[0;34m(timeout, *popenargs, **kwargs)\u001b[0m\n\u001b[1;32m    557\u001b[0m     \u001b[0;32mwith\u001b[0m \u001b[0mPopen\u001b[0m\u001b[0;34m(\u001b[0m\u001b[0;34m*\u001b[0m\u001b[0mpopenargs\u001b[0m\u001b[0;34m,\u001b[0m \u001b[0;34m**\u001b[0m\u001b[0mkwargs\u001b[0m\u001b[0;34m)\u001b[0m \u001b[0;32mas\u001b[0m \u001b[0mp\u001b[0m\u001b[0;34m:\u001b[0m\u001b[0;34m\u001b[0m\u001b[0m\n\u001b[1;32m    558\u001b[0m         \u001b[0;32mtry\u001b[0m\u001b[0;34m:\u001b[0m\u001b[0;34m\u001b[0m\u001b[0m\n\u001b[0;32m--> 559\u001b[0;31m             \u001b[0;32mreturn\u001b[0m \u001b[0mp\u001b[0m\u001b[0;34m.\u001b[0m\u001b[0mwait\u001b[0m\u001b[0;34m(\u001b[0m\u001b[0mtimeout\u001b[0m\u001b[0;34m=\u001b[0m\u001b[0mtimeout\u001b[0m\u001b[0;34m)\u001b[0m\u001b[0;34m\u001b[0m\u001b[0m\n\u001b[0m\u001b[1;32m    560\u001b[0m         \u001b[0;32mexcept\u001b[0m\u001b[0;34m:\u001b[0m\u001b[0;34m\u001b[0m\u001b[0m\n\u001b[1;32m    561\u001b[0m             \u001b[0mp\u001b[0m\u001b[0;34m.\u001b[0m\u001b[0mkill\u001b[0m\u001b[0;34m(\u001b[0m\u001b[0;34m)\u001b[0m\u001b[0;34m\u001b[0m\u001b[0m\n",
      "\u001b[0;32m/home/zhusj/anaconda2/envs/rllab3/lib/python3.5/subprocess.py\u001b[0m in \u001b[0;36mwait\u001b[0;34m(self, timeout, endtime)\u001b[0m\n\u001b[1;32m   1656\u001b[0m                         \u001b[0;32mif\u001b[0m \u001b[0mself\u001b[0m\u001b[0;34m.\u001b[0m\u001b[0mreturncode\u001b[0m \u001b[0;32mis\u001b[0m \u001b[0;32mnot\u001b[0m \u001b[0;32mNone\u001b[0m\u001b[0;34m:\u001b[0m\u001b[0;34m\u001b[0m\u001b[0m\n\u001b[1;32m   1657\u001b[0m                             \u001b[0;32mbreak\u001b[0m  \u001b[0;31m# Another thread waited.\u001b[0m\u001b[0;34m\u001b[0m\u001b[0m\n\u001b[0;32m-> 1658\u001b[0;31m                         \u001b[0;34m(\u001b[0m\u001b[0mpid\u001b[0m\u001b[0;34m,\u001b[0m \u001b[0msts\u001b[0m\u001b[0;34m)\u001b[0m \u001b[0;34m=\u001b[0m \u001b[0mself\u001b[0m\u001b[0;34m.\u001b[0m\u001b[0m_try_wait\u001b[0m\u001b[0;34m(\u001b[0m\u001b[0;36m0\u001b[0m\u001b[0;34m)\u001b[0m\u001b[0;34m\u001b[0m\u001b[0m\n\u001b[0m\u001b[1;32m   1659\u001b[0m                         \u001b[0;31m# Check the pid and loop as waitpid has been known to\u001b[0m\u001b[0;34m\u001b[0m\u001b[0;34m\u001b[0m\u001b[0m\n\u001b[1;32m   1660\u001b[0m                         \u001b[0;31m# return 0 even without WNOHANG in odd situations.\u001b[0m\u001b[0;34m\u001b[0m\u001b[0;34m\u001b[0m\u001b[0m\n",
      "\u001b[0;32m/home/zhusj/anaconda2/envs/rllab3/lib/python3.5/subprocess.py\u001b[0m in \u001b[0;36m_try_wait\u001b[0;34m(self, wait_flags)\u001b[0m\n\u001b[1;32m   1606\u001b[0m             \u001b[0;34m\"\"\"All callers to this function MUST hold self._waitpid_lock.\"\"\"\u001b[0m\u001b[0;34m\u001b[0m\u001b[0m\n\u001b[1;32m   1607\u001b[0m             \u001b[0;32mtry\u001b[0m\u001b[0;34m:\u001b[0m\u001b[0;34m\u001b[0m\u001b[0m\n\u001b[0;32m-> 1608\u001b[0;31m                 \u001b[0;34m(\u001b[0m\u001b[0mpid\u001b[0m\u001b[0;34m,\u001b[0m \u001b[0msts\u001b[0m\u001b[0;34m)\u001b[0m \u001b[0;34m=\u001b[0m \u001b[0mos\u001b[0m\u001b[0;34m.\u001b[0m\u001b[0mwaitpid\u001b[0m\u001b[0;34m(\u001b[0m\u001b[0mself\u001b[0m\u001b[0;34m.\u001b[0m\u001b[0mpid\u001b[0m\u001b[0;34m,\u001b[0m \u001b[0mwait_flags\u001b[0m\u001b[0;34m)\u001b[0m\u001b[0;34m\u001b[0m\u001b[0m\n\u001b[0m\u001b[1;32m   1609\u001b[0m             \u001b[0;32mexcept\u001b[0m \u001b[0mChildProcessError\u001b[0m\u001b[0;34m:\u001b[0m\u001b[0;34m\u001b[0m\u001b[0m\n\u001b[1;32m   1610\u001b[0m                 \u001b[0;31m# This happens if SIGCLD is set to be ignored or waiting\u001b[0m\u001b[0;34m\u001b[0m\u001b[0;34m\u001b[0m\u001b[0m\n",
      "\u001b[0;31mKeyboardInterrupt\u001b[0m: "
     ]
    }
   ],
   "source": [
    "############### real = 0.6 * sim\n",
    "\n",
    "global env_name\n",
    "env_name = \"Swimmer-v1\"\n",
    "returns = []\n",
    "total_iter = 400\n",
    "test_iter = 10\n",
    "num_iters = int(total_iter/test_iter)\n",
    "\n",
    "def run_task(*_):\n",
    "    # Please note that different environments with different action spaces may\n",
    "    # require different policies. For example with a Discrete action space, a\n",
    "    # CategoricalMLPPolicy works, but for a Box action space may need to use\n",
    "    # a GaussianMLPPolicy (see the trpo_gym_pendulum.py example)\n",
    "    env_sim = normalize(GymEnv(env_name,record_video=False, record_log=False))\n",
    "    print(\"sim mass: \", env_sim.wrapped_env.env.env.model.body_mass)\n",
    "    \n",
    "\n",
    "    \n",
    "    model_body_mass = env_sim.wrapped_env.env.env.model.body_mass\n",
    "    bounds = []\n",
    "    for i in range(0,model_body_mass.shape[0]):\n",
    "        bounds.append({'name': 'mass', 'type': 'continuous', 'domain': (model_body_mass[i,0]*0.5,model_body_mass[i,0]*1.5)})\n",
    "    \n",
    "\n",
    "    policy = GaussianMLPPolicy(\n",
    "        env_spec=env_sim.spec,\n",
    "        # The neural network policy should have two hidden layers, each with 32 hidden units.\n",
    "        hidden_sizes=(32, 32)\n",
    "    )\n",
    "    \n",
    "    X_init = np.empty(shape=(0, 0))\n",
    "    Y_init = np.empty(shape=(0, 0))\n",
    "    \n",
    "    baseline = LinearFeatureBaseline(env_spec=env_sim.spec)\n",
    "    \n",
    "    algo = TRPO(\n",
    "            env=env_sim,\n",
    "            policy=policy,\n",
    "            baseline=baseline,\n",
    "            batch_size=4000,\n",
    "            max_path_length=1000,\n",
    "            n_itr=10,\n",
    "            discount=0.99,\n",
    "            step_size=0.01,\n",
    "    #         Uncomment both lines (this and the plot parameter below) to enable plotting\n",
    "    #         plot=True,\n",
    "        )\n",
    "    for i in range(0,num_iters):\n",
    "        print(\"iter: \", i)\n",
    "#         algo.n_itr = algo.n_itr + test_iter\n",
    "        current_mass = algo.env.wrapped_env.env.env.model.body_mass\n",
    "        print(\"algo env mass: \", current_mass)\n",
    "        algo.train()\n",
    "        \n",
    "        ################### Testing in GT parameter #################\n",
    "#         print(\"algo sim mass: \", algo.env.wrapped_env.env.env.model.body_mass)\n",
    "#         sampler_cls = BatchSampler\n",
    "#         sampler = sampler_cls(algo)\n",
    "#         sampler.start_worker()\n",
    "#         paths = sampler.obtain_samples(1)\n",
    "#         paths_returns = [sum(path[\"rewards\"]) for path in paths]\n",
    "#         sampler.shutdown_worker()\n",
    "#         print(\"Sim sample ave returns:  \\n\\n\\n\\n\", np.mean(paths_returns))   \n",
    "        \n",
    "        \n",
    "#         print(\"algo sim mass: \", algo.env.wrapped_env.env.env.model.body_mass)\n",
    "#         parallel_sampler.populate_task(algo.env, algo.policy, scope=algo.scope)\n",
    "#         paths = parallel_sampler.sample_paths(\n",
    "#             policy_params=algo.policy.get_param_values(),\n",
    "#             max_samples=algo.batch_size,\n",
    "#             max_path_length=algo.max_path_length,\n",
    "#             env_params=algo.env.get_param_values(),\n",
    "#             scope=algo.scope,\n",
    "#         )\n",
    "#         paths_returns = [sum(path[\"rewards\"]) for path in paths]\n",
    "#         parallel_sampler.terminate_task(scope=algo.scope)\n",
    "#         print(\"Sim sample ave returns: \", np.mean(paths_returns), \"\\n\\n\\n\\n\")   \n",
    "                \n",
    "        env_real = normalize(GymEnv(env_name,record_video=False, record_log=False))\n",
    "        mb = env_real.wrapped_env.env.env.model.body_mass\n",
    "        mb = np.array(mb)\n",
    "        mb = mb*0.6\n",
    "        env_real.wrapped_env.env.env.model.body_mass = mb\n",
    "        print(\"real mass: \", env_real.wrapped_env.env.env.model.body_mass)\n",
    "        parallel_sampler.populate_task(env_real, algo.policy, scope=algo.scope)\n",
    "        paths_real = parallel_sampler.sample_paths(\n",
    "            policy_params=algo.policy.get_param_values(),\n",
    "            max_samples=algo.batch_size,\n",
    "            max_path_length=algo.max_path_length,\n",
    "            env_params=env_real.get_param_values(),\n",
    "            scope=algo.scope,\n",
    "        )\n",
    "        paths_real_returns = [sum(path[\"rewards\"]) for path in paths_real]\n",
    "        parallel_sampler.terminate_task(scope=algo.scope)\n",
    "        ave_returns = np.mean(paths_real_returns)\n",
    "        print(\"Real sample ave returns: \", ave_returns, \"\\n\\n\\n\\n\")\n",
    "        returns.append(ave_returns)\n",
    "        \n",
    "#         algo_real = copy.deepcopy(algo)\n",
    "#         algo_real.env = env_real\n",
    "#         print(\"algo real mass: \", algo_real.env.wrapped_env.env.env.model.body_mass)\n",
    "#         sampler_cls = BatchSampler\n",
    "#         sampler = sampler_cls(algo_real)\n",
    "#         sampler.start_worker()\n",
    "#         paths = sampler.obtain_samples(1)\n",
    "#         paths_returns = [sum(path[\"rewards\"]) for path in paths]\n",
    "#         sampler.shutdown_worker()\n",
    "#         print(\"Real sample ave returns:\", np.mean(paths_returns), \"\\n\\n\\n\\n\")   \n",
    "#         returns.append(np.mean(paths_returns))\n",
    "        \n",
    "        env_real = normalize(GymEnv(env_name,record_video=False, record_log=False))\n",
    "        mb = env_real.wrapped_env.env.env.model.body_mass\n",
    "        mb = np.array(mb)\n",
    "        mb = mb*0.6\n",
    "        env_real.wrapped_env.env.env.model.body_mass = mb\n",
    "        print(\"real mass: \", env_real.wrapped_env.env.env.model.body_mass)\n",
    "        path = collect_data(env_real, algo.policy, max_path_length=1000,\n",
    "                       animated=False, speedup=1)\n",
    "        path[\"returns\"] = sum(path[\"rewards\"])\n",
    "        print(\"real returns:  \", path['returns'], path['rewards'].shape , \"\\n\\n\\n\\n\")\n",
    "#         returns.append(path['returns'])\n",
    "        \n",
    "        global states, observations, actions\n",
    "        states = path['states']\n",
    "        observations = path['observations']\n",
    "        actions = path['actions']\n",
    "\n",
    "        print(\"sim mass: \", algo.env.wrapped_env.env.env.model.body_mass)\n",
    "        path_2 = rollout(algo.env, algo.policy, max_path_length=1000,\n",
    "                       animated=False, speedup=1)\n",
    "        path_2[\"returns\"] = sum(path_2[\"rewards\"])\n",
    "        print(\"sim returns: \", path_2['returns'], path_2[\"rewards\"].shape, \"\\n\\n\\n\\n\") \n",
    "        \n",
    "        env_sim_test = normalize(GymEnv(env_name,record_video=False, record_log=False))\n",
    "#         env_sim_test.wrapped_env.env.env.model.body_mass = np.array(current_mass)\n",
    "        print(\"sim test mass: \", env_sim_test.wrapped_env.env.env.model.body_mass)\n",
    "        path_2 = rollout(env_sim_test, algo.policy, max_path_length=1000,\n",
    "                       animated=False, speedup=1)\n",
    "        path_2[\"returns\"] = sum(path_2[\"rewards\"])\n",
    "        print(\"sim test returns: \", path_2['returns'], path_2[\"rewards\"].shape, \"\\n\\n\\n\\n\") \n",
    "        \n",
    "#         if i==1:\n",
    "#             model_body_mass = env_sim.wrapped_env.env.env.model.body_mass\n",
    "#             bounds = []\n",
    "#             for i in range(0,model_body_mass.shape[0]):\n",
    "#                 bounds.append({'name': 'mass', 'type': 'continuous', 'domain': (model_body_mass[i,0]*0.9,model_body_mass[i,0]*1.1)})\n",
    "        \n",
    "        myBopt = BO(bounds, X_init, Y_init)\n",
    "        X_init = myBopt.X\n",
    "        Y_init = myBopt.Y\n",
    "# #         algo.env.wrapped_env.env.env.model.body_mass = np.array(myBopt.x_opt)\n",
    "        \n",
    "        env_sim_new = normalize(GymEnv(env_name,record_video=False, record_log=False))        \n",
    "#         ## update env_sim with new boday_mass from BO\n",
    "        env_sim_new.wrapped_env.env.env.model.body_mass = np.array(myBopt.x_opt)\n",
    "        algo = TRPO(\n",
    "            env=env_sim_new,\n",
    "            policy=policy,\n",
    "            baseline=baseline,\n",
    "            batch_size=4000,\n",
    "            max_path_length=1000,\n",
    "            n_itr=10,\n",
    "            discount=0.99,\n",
    "            step_size=0.01,\n",
    "    #         Uncomment both lines (this and the plot parameter below) to enable plotting\n",
    "    #         plot=True,\n",
    "        )\n",
    "        algo.env = env_sim_new        \n",
    "        ##############################################################\n",
    "        \n",
    "    print(\"returns: \", returns)\n",
    "    now = datetime.now()\n",
    "    save_data_filename = \"BO_returns_\"+env_name+\"_iter_\"+str(total_iter)+\"_\"+str(now)\n",
    "    with open(save_data_filename, 'wb') as f:\n",
    "        pickle.dump(returns, f)\n",
    "        \n",
    "for v in variants:\n",
    "    print(\"seed: \", v[\"seed\"])\n",
    "    run_experiment_lite(\n",
    "        run_task,\n",
    "        # Number of parallel workers for sampling\n",
    "        n_parallel=1,\n",
    "        # Only keep the snapshot parameters for the last iteration\n",
    "        snapshot_mode=\"last\",\n",
    "        # Specifies the seed for the experiment. If this is not provided, a random seed\n",
    "        # will be used\n",
    "        seed=v[\"seed\"],\n",
    "        exp_prefix = \"BO_trpo\"+env_name+\"_32_32_4000_10\",\n",
    "    #     plot=True,\n",
    "    )\n"
   ]
  },
  {
   "cell_type": "code",
   "execution_count": 31,
   "metadata": {
    "collapsed": false
   },
   "outputs": [
    {
     "name": "stdout",
     "output_type": "stream",
     "text": [
      "python /home/zhusj/repos/rllab/scripts/run_experiment_lite.py  --resume_from '/home/zhusj/repos/rllab/data/local/trpo-Swimmer-v1-32-32-4000-10/trpo_Swimmer-v1_32_32_4000_10_2017_09_07_13_23_35_0006/params.pkl'  --use_cloudpickle 'True'  --log_dir '/home/zhusj/repos/rllab/data/local/trpo-Swimmer-v1-32-32-4000-10/trpo_Swimmer-v1_32_32_4000_10_2017_09_07_13_23_35_0010'  --exp_name 'trpo_Swimmer-v1_32_32_4000_10_2017_09_07_13_23_35_0010'  --args_data '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'  --variant_data 'gAN9cQBYCAAAAGV4cF9uYW1lcQFYNgAAAHRycG9fU3dpbW1lci12MV8zMl8zMl80MDAwXzEwXzIwMTdfMDlfMDdfMTNfMjNfMzVfMDAxMHECcy4='\n"
     ]
    }
   ],
   "source": [
    "env_name = \"Swimmer-v1\"\n",
    "returns = []\n",
    "total_iter = 400\n",
    "test_iter = 10\n",
    "num_iters = int(total_iter/test_iter)\n",
    "\n",
    "run_experiment_lite(\n",
    "    run_task,\n",
    "    resume_from = \"/home/zhusj/repos/rllab/data/local/trpo-Swimmer-v1-32-32-4000-10/trpo_Swimmer-v1_32_32_4000_10_2017_09_07_13_23_35_0006/params.pkl\",\n",
    "    # Number of parallel workers for sampling\n",
    "#     n_parallel=16,\n",
    "    # Only keep the snapshot parameters for the last iteration\n",
    "#     snapshot_mode=\"last\",\n",
    "    # Specifies the seed for the experiment. If this is not provided, a random seed\n",
    "    # will be used\n",
    "#     seed=1,\n",
    "    exp_prefix = \"trpo_\"+env_name+\"_32_32_4000_10\",\n",
    "#     plot=True,\n",
    ")"
   ]
  },
  {
   "cell_type": "code",
   "execution_count": 3,
   "metadata": {
    "collapsed": false
   },
   "outputs": [
    {
     "data": {
      "text/plain": [
       "{'actions': array([[ 0.15943319],\n",
       "        [-1.63633099],\n",
       "        [-0.94240068],\n",
       "        [ 1.62921315]]), 'agent_infos': {'log_std': array([[ 0.03442661],\n",
       "         [ 0.03442661],\n",
       "         [ 0.03442661],\n",
       "         [ 0.03442661]]), 'mean': array([[-0.16971114],\n",
       "         [-0.17255606],\n",
       "         [-0.18444359],\n",
       "         [-0.35314067]])}, 'env_infos': {}, 'observations': array([[ -6.53789907e-03,  -4.04011712e-03,  -8.02106308e-03,\n",
       "           7.73202508e-03],\n",
       "        [ -3.33838927e-03,  -1.20304268e-02,   1.67452261e-01,\n",
       "          -4.02749249e-01],\n",
       "        [ -1.87152795e-02,   2.38020797e-02,  -9.32525536e-01,\n",
       "           2.16314951e+00],\n",
       "        [ -7.63754689e-02,   1.56155273e-01,  -1.94552484e+00,\n",
       "           4.43404701e+00],\n",
       "        [ -1.31829886e-01,   2.80571882e-01,  -8.39104008e-01,\n",
       "           1.87326515e+00]]), 'rewards': array([ 1.,  1.,  1.,  1.])}"
      ]
     },
     "execution_count": 3,
     "metadata": {},
     "output_type": "execute_result"
    }
   ],
   "source": [
    "path = collect_data(env, policy, max_path_length=env.horizon,\n",
    "                       animated=False, speedup=1)\n",
    "path"
   ]
  },
  {
   "cell_type": "code",
   "execution_count": 4,
   "metadata": {
    "collapsed": false
   },
   "outputs": [],
   "source": [
    "states = path['observations']"
   ]
  },
  {
   "cell_type": "code",
   "execution_count": 5,
   "metadata": {
    "collapsed": false
   },
   "outputs": [
    {
     "data": {
      "text/plain": [
       "array([[ -6.53789907e-03,  -4.04011712e-03,  -8.02106308e-03,\n",
       "          7.73202508e-03],\n",
       "       [ -3.33838927e-03,  -1.20304268e-02,   1.67452261e-01,\n",
       "         -4.02749249e-01],\n",
       "       [ -1.87152795e-02,   2.38020797e-02,  -9.32525536e-01,\n",
       "          2.16314951e+00],\n",
       "       [ -7.63754689e-02,   1.56155273e-01,  -1.94552484e+00,\n",
       "          4.43404701e+00],\n",
       "       [ -1.31829886e-01,   2.80571882e-01,  -8.39104008e-01,\n",
       "          1.87326515e+00]])"
      ]
     },
     "execution_count": 5,
     "metadata": {},
     "output_type": "execute_result"
    }
   ],
   "source": [
    "states"
   ]
  },
  {
   "cell_type": "code",
   "execution_count": 6,
   "metadata": {
    "collapsed": false
   },
   "outputs": [],
   "source": [
    "actions = path['actions']"
   ]
  },
  {
   "cell_type": "code",
   "execution_count": 7,
   "metadata": {
    "collapsed": false
   },
   "outputs": [
    {
     "data": {
      "text/plain": [
       "array([[ 0.15943319],\n",
       "       [-1.63633099],\n",
       "       [-0.94240068],\n",
       "       [ 1.62921315]])"
      ]
     },
     "execution_count": 7,
     "metadata": {},
     "output_type": "execute_result"
    }
   ],
   "source": [
    "actions"
   ]
  },
  {
   "cell_type": "code",
   "execution_count": 7,
   "metadata": {
    "collapsed": false
   },
   "outputs": [
    {
     "ename": "NameError",
     "evalue": "name 'env' is not defined",
     "output_type": "error",
     "traceback": [
      "\u001b[0;31m---------------------------------------------------------------------------\u001b[0m",
      "\u001b[0;31mNameError\u001b[0m                                 Traceback (most recent call last)",
      "\u001b[0;32m<ipython-input-7-81fb0379ed8e>\u001b[0m in \u001b[0;36m<module>\u001b[0;34m()\u001b[0m\n\u001b[0;32m----> 1\u001b[0;31m \u001b[0menv2\u001b[0m \u001b[0;34m=\u001b[0m \u001b[0mcopy\u001b[0m\u001b[0;34m.\u001b[0m\u001b[0mdeepcopy\u001b[0m\u001b[0;34m(\u001b[0m\u001b[0menv\u001b[0m\u001b[0;34m)\u001b[0m\u001b[0;34m\u001b[0m\u001b[0m\n\u001b[0m",
      "\u001b[0;31mNameError\u001b[0m: name 'env' is not defined"
     ]
    }
   ],
   "source": [
    "env2 = copy.deepcopy(env)"
   ]
  },
  {
   "cell_type": "code",
   "execution_count": 9,
   "metadata": {
    "collapsed": false
   },
   "outputs": [
    {
     "data": {
      "text/plain": [
       "array([[ 0.        ],\n",
       "       [ 9.42477796],\n",
       "       [ 4.8953899 ]])"
      ]
     },
     "execution_count": 9,
     "metadata": {},
     "output_type": "execute_result"
    }
   ],
   "source": [
    "env2.wrapped_env.env.env.model.body_mass"
   ]
  },
  {
   "cell_type": "code",
   "execution_count": 10,
   "metadata": {
    "collapsed": false
   },
   "outputs": [],
   "source": [
    "mb = env2.wrapped_env.env.env.model.body_mass\n",
    "mb = np.array(mb)\n",
    "mb[2,0] = mb[1,0]*1.4\n",
    "env2.wrapped_env.env.env.model.body_mass = mb"
   ]
  },
  {
   "cell_type": "code",
   "execution_count": 11,
   "metadata": {
    "collapsed": false
   },
   "outputs": [
    {
     "data": {
      "text/plain": [
       "array([ 0.00822978, -0.00634424, -0.00853528,  0.00116033])"
      ]
     },
     "execution_count": 11,
     "metadata": {},
     "output_type": "execute_result"
    }
   ],
   "source": [
    "env2.reset()"
   ]
  },
  {
   "cell_type": "code",
   "execution_count": 12,
   "metadata": {
    "collapsed": false
   },
   "outputs": [],
   "source": [
    "env2.wrapped_env.env.env.set_state(states[0,:2],states[0,2:])"
   ]
  },
  {
   "cell_type": "code",
   "execution_count": 13,
   "metadata": {
    "collapsed": false
   },
   "outputs": [
    {
     "data": {
      "text/plain": [
       "array([-0.0065379 , -0.00404012, -0.00802106,  0.00773203])"
      ]
     },
     "execution_count": 13,
     "metadata": {},
     "output_type": "execute_result"
    }
   ],
   "source": [
    "env2.wrapped_env.env.env.state_vector()"
   ]
  },
  {
   "cell_type": "code",
   "execution_count": 6,
   "metadata": {
    "collapsed": false
   },
   "outputs": [
    {
     "ename": "NameError",
     "evalue": "name 'env2' is not defined",
     "output_type": "error",
     "traceback": [
      "\u001b[0;31m---------------------------------------------------------------------------\u001b[0m",
      "\u001b[0;31mNameError\u001b[0m                                 Traceback (most recent call last)",
      "\u001b[0;32m<ipython-input-6-eee1f2622d5f>\u001b[0m in \u001b[0;36m<module>\u001b[0;34m()\u001b[0m\n\u001b[0;32m----> 1\u001b[0;31m \u001b[0menv2\u001b[0m\u001b[0;34m.\u001b[0m\u001b[0mreset\u001b[0m\u001b[0;34m(\u001b[0m\u001b[0;34m)\u001b[0m\u001b[0;34m\u001b[0m\u001b[0m\n\u001b[0m\u001b[1;32m      2\u001b[0m \u001b[0menv2\u001b[0m\u001b[0;34m.\u001b[0m\u001b[0mwrapped_env\u001b[0m\u001b[0;34m.\u001b[0m\u001b[0menv\u001b[0m\u001b[0;34m.\u001b[0m\u001b[0menv\u001b[0m\u001b[0;34m.\u001b[0m\u001b[0mset_state\u001b[0m\u001b[0;34m(\u001b[0m\u001b[0mstates\u001b[0m\u001b[0;34m[\u001b[0m\u001b[0;36m0\u001b[0m\u001b[0;34m,\u001b[0m\u001b[0;34m:\u001b[0m\u001b[0;36m2\u001b[0m\u001b[0;34m]\u001b[0m\u001b[0;34m,\u001b[0m\u001b[0mstates\u001b[0m\u001b[0;34m[\u001b[0m\u001b[0;36m0\u001b[0m\u001b[0;34m,\u001b[0m\u001b[0;36m2\u001b[0m\u001b[0;34m:\u001b[0m\u001b[0;34m]\u001b[0m\u001b[0;34m)\u001b[0m\u001b[0;34m\u001b[0m\u001b[0m\n\u001b[1;32m      3\u001b[0m \u001b[0menv2\u001b[0m\u001b[0;34m.\u001b[0m\u001b[0mwrapped_env\u001b[0m\u001b[0;34m.\u001b[0m\u001b[0menv\u001b[0m\u001b[0;34m.\u001b[0m\u001b[0menv\u001b[0m\u001b[0;34m.\u001b[0m\u001b[0mstate_vector\u001b[0m\u001b[0;34m(\u001b[0m\u001b[0;34m)\u001b[0m\u001b[0;34m\u001b[0m\u001b[0m\n\u001b[1;32m      4\u001b[0m \u001b[0;32mfor\u001b[0m \u001b[0mi\u001b[0m \u001b[0;32min\u001b[0m \u001b[0mrange\u001b[0m\u001b[0;34m(\u001b[0m\u001b[0;36m0\u001b[0m\u001b[0;34m,\u001b[0m\u001b[0mactions\u001b[0m\u001b[0;34m.\u001b[0m\u001b[0mshape\u001b[0m\u001b[0;34m[\u001b[0m\u001b[0;36m0\u001b[0m\u001b[0;34m]\u001b[0m\u001b[0;34m)\u001b[0m\u001b[0;34m:\u001b[0m\u001b[0;34m\u001b[0m\u001b[0m\n\u001b[1;32m      5\u001b[0m     \u001b[0mnext_o\u001b[0m\u001b[0;34m,\u001b[0m \u001b[0mr\u001b[0m\u001b[0;34m,\u001b[0m \u001b[0md\u001b[0m\u001b[0;34m,\u001b[0m \u001b[0menv_info\u001b[0m \u001b[0;34m=\u001b[0m \u001b[0menv2\u001b[0m\u001b[0;34m.\u001b[0m\u001b[0mstep\u001b[0m\u001b[0;34m(\u001b[0m\u001b[0mactions\u001b[0m\u001b[0;34m[\u001b[0m\u001b[0mi\u001b[0m\u001b[0;34m,\u001b[0m\u001b[0;34m:\u001b[0m\u001b[0;34m]\u001b[0m\u001b[0;34m)\u001b[0m\u001b[0;34m\u001b[0m\u001b[0m\n",
      "\u001b[0;31mNameError\u001b[0m: name 'env2' is not defined"
     ]
    }
   ],
   "source": [
    "env2.reset()\n",
    "env2.wrapped_env.env.env.set_state(states[0,:2],states[0,2:])\n",
    "env2.wrapped_env.env.env.state_vector()\n",
    "for i in range(0,actions.shape[0]):\n",
    "    next_o, r, d, env_info = env2.step(actions[i,:])\n",
    "    print (actions[i,:],next_o)"
   ]
  },
  {
   "cell_type": "code",
   "execution_count": 16,
   "metadata": {
    "collapsed": false
   },
   "outputs": [
    {
     "name": "stdout",
     "output_type": "stream",
     "text": [
      "[ 0.15943319] [-0.00333839 -0.01203043  0.16745226 -0.40274925]\n",
      "[-1.63633099] [-0.01871528  0.02380208 -0.93252554  2.16314951]\n",
      "[-0.94240068] [-0.07637547  0.15615527 -1.94552484  4.43404701]\n",
      "[ 1.62921315] [-0.13182989  0.28057188 -0.83910401  1.87326515]\n"
     ]
    }
   ],
   "source": [
    "env.wrapped_env.env.env.set_state(states[0,:2],states[0,2:])\n",
    "for i in range(0,4):\n",
    "    next_o, r, d, env_info = env.step(actions[i,:])\n",
    "    print (actions[i,:],next_o)"
   ]
  },
  {
   "cell_type": "code",
   "execution_count": null,
   "metadata": {
    "collapsed": true
   },
   "outputs": [],
   "source": []
  }
 ],
 "metadata": {
  "kernelspec": {
   "display_name": "Python 3",
   "language": "python",
   "name": "python3"
  },
  "language_info": {
   "codemirror_mode": {
    "name": "ipython",
    "version": 3
   },
   "file_extension": ".py",
   "mimetype": "text/x-python",
   "name": "python",
   "nbconvert_exporter": "python",
   "pygments_lexer": "ipython3",
   "version": "3.5.2"
  },
  "widgets": {
   "state": {},
   "version": "1.1.2"
  }
 },
 "nbformat": 4,
 "nbformat_minor": 2
}
